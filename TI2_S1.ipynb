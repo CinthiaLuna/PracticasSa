{
  "nbformat": 4,
  "nbformat_minor": 0,
  "metadata": {
    "colab": {
      "name": "TI2_S1.ipynb",
      "version": "0.3.2",
      "provenance": [],
      "include_colab_link": true
    },
    "kernelspec": {
      "name": "python3",
      "display_name": "Python 3"
    }
  },
  "cells": [
    {
      "cell_type": "markdown",
      "metadata": {
        "id": "view-in-github",
        "colab_type": "text"
      },
      "source": [
        "<a href=\"https://colab.research.google.com/github/CinthiaLuna/PracticasSa/blob/master/TI2_S1.ipynb\" target=\"_parent\"><img src=\"https://colab.research.google.com/assets/colab-badge.svg\" alt=\"Open In Colab\"/></a>"
      ]
    },
    {
      "cell_type": "code",
      "metadata": {
        "id": "856_FZiVhU3X",
        "colab_type": "code",
        "colab": {}
      },
      "source": [
        "import re"
      ],
      "execution_count": 0,
      "outputs": []
    },
    {
      "cell_type": "code",
      "metadata": {
        "id": "CV3DjTODhXFF",
        "colab_type": "code",
        "colab": {}
      },
      "source": [
        "myString = 'From: readers@packt.com (readers email)'\n"
      ],
      "execution_count": 0,
      "outputs": []
    },
    {
      "cell_type": "code",
      "metadata": {
        "id": "o9PO9-eWhqfw",
        "colab_type": "code",
        "colab": {}
      },
      "source": [
        "result = re.search('([\\w.-]+)@ ([\\w.-]+)', myString)"
      ],
      "execution_count": 0,
      "outputs": []
    },
    {
      "cell_type": "code",
      "metadata": {
        "id": "U_JcywMGh-kg",
        "colab_type": "code",
        "colab": {}
      },
      "source": [
        "if result:\n",
        "  print (result.group(0))\n",
        "  print (result.group(1))\n",
        "  print (result.group(2))"
      ],
      "execution_count": 0,
      "outputs": []
    },
    {
      "cell_type": "code",
      "metadata": {
        "id": "YsK_3hgyif4g",
        "colab_type": "code",
        "outputId": "cc5fb1f2-0a9c-4f7f-88c2-cf7aa70c9162",
        "colab": {
          "base_uri": "https://localhost:8080/",
          "height": 34
        }
      },
      "source": [
        "isIP = re.compile ('\\d{1,3}\\.\\d{1,3}\\.\\d{1,3}\\.\\d{1,3}')\n",
        "myString = \"Your IP is : 198.168.1.254 esto es texto al final .214\"\n",
        "result = re.findall(isIP,myString)\n",
        "print( result)"
      ],
      "execution_count": 0,
      "outputs": [
        {
          "output_type": "stream",
          "text": [
            "['198.168.1.254']\n"
          ],
          "name": "stdout"
        }
      ]
    },
    {
      "cell_type": "code",
      "metadata": {
        "id": "_sbYM6ltjHNC",
        "colab_type": "code",
        "outputId": "01ad2cbc-6483-47a0-a217-fdbfe27ffeb4",
        "colab": {
          "base_uri": "https://localhost:8080/",
          "height": 34
        }
      },
      "source": [
        "myString = \"01/40/2001\"\n",
        "isDate = re.match('[0-1][0-9]\\/[0-3][0-9]\\/[1-2][0-9]{3}',myString)\n",
        "if isDate : \n",
        "  print (\"valid\")\n",
        "else:\n",
        "  print(\"invalido\")"
      ],
      "execution_count": 0,
      "outputs": [
        {
          "output_type": "stream",
          "text": [
            "invalido\n"
          ],
          "name": "stdout"
        }
      ]
    },
    {
      "cell_type": "code",
      "metadata": {
        "id": "F9bnYl2LkW12",
        "colab_type": "code",
        "colab": {}
      },
      "source": [
        ""
      ],
      "execution_count": 0,
      "outputs": []
    }
  ]
}