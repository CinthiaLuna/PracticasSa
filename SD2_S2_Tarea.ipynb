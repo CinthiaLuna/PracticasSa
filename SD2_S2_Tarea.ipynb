{
  "nbformat": 4,
  "nbformat_minor": 0,
  "metadata": {
    "colab": {
      "name": "SD2_S2_Tarea.ipynb",
      "version": "0.3.2",
      "provenance": [],
      "include_colab_link": true
    },
    "kernelspec": {
      "name": "python3",
      "display_name": "Python 3"
    }
  },
  "cells": [
    {
      "cell_type": "markdown",
      "metadata": {
        "id": "view-in-github",
        "colab_type": "text"
      },
      "source": [
        "<a href=\"https://colab.research.google.com/github/CinthiaLuna/PracticasSa/blob/master/SD2_S2_Tarea.ipynb\" target=\"_parent\"><img src=\"https://colab.research.google.com/assets/colab-badge.svg\" alt=\"Open In Colab\"/></a>"
      ]
    },
    {
      "cell_type": "code",
      "metadata": {
        "id": "sXUKULNSGMtQ",
        "colab_type": "code",
        "colab": {}
      },
      "source": [
        "import numpy as np\n",
        "import pandas as pd\n",
        "import psutil, os"
      ],
      "execution_count": 0,
      "outputs": []
    },
    {
      "cell_type": "code",
      "metadata": {
        "id": "lYwSmqSbOD0I",
        "colab_type": "code",
        "colab": {}
      },
      "source": [
        "def huella_memoria():\n",
        "  '''Regresa la huella de memoria en MB usada por un proceso en python'''\n",
        "  mem = psutil.Process(os.getpid()).memory_info().rss\n",
        "  return (mem / 1024**2)"
      ],
      "execution_count": 0,
      "outputs": []
    },
    {
      "cell_type": "code",
      "metadata": {
        "id": "ojOQI1kvHGlx",
        "colab_type": "code",
        "colab": {}
      },
      "source": [
        "plantilla = 'yellow_tripdata_2018-{:02d}.csv'\n",
        "plantillaURL = 'wget  https://s3.amazonaws.com/nyc-tlc/trip+data/' + plantilla"
      ],
      "execution_count": 0,
      "outputs": []
    },
    {
      "cell_type": "markdown",
      "metadata": {
        "id": "nUbFkxf8z8am",
        "colab_type": "text"
      },
      "source": [
        "##Lista"
      ]
    },
    {
      "cell_type": "code",
      "metadata": {
        "id": "9AwaSgojKfep",
        "colab_type": "code",
        "colab": {}
      },
      "source": [
        "archivo3m = [plantillaURL.format(y) for y in range(1,4)]\n",
        "archivo3m"
      ],
      "execution_count": 0,
      "outputs": []
    },
    {
      "cell_type": "code",
      "metadata": {
        "id": "cg5ahVjN4-nu",
        "colab_type": "code",
        "colab": {}
      },
      "source": [
        "archivo6m = [plantillaURL.format(y) for y in range(1,7)]\n",
        "archivo6m"
      ],
      "execution_count": 0,
      "outputs": []
    },
    {
      "cell_type": "code",
      "metadata": {
        "id": "AvTbAkby4l2U",
        "colab_type": "code",
        "colab": {}
      },
      "source": [
        "archivo12m = [plantillaURL.format(y) for y in range(1,13)]\n",
        "archivo12m"
      ],
      "execution_count": 0,
      "outputs": []
    },
    {
      "cell_type": "markdown",
      "metadata": {
        "id": "VfatlztC-J2r",
        "colab_type": "text"
      },
      "source": [
        "##Generador de objetos"
      ]
    },
    {
      "cell_type": "code",
      "metadata": {
        "id": "P8fNEPZK-Q-M",
        "colab_type": "code",
        "colab": {
          "base_uri": "https://localhost:8080/",
          "height": 34
        },
        "outputId": "ebd8bc3f-72e7-44ac-e5df-8e4a1df0c793"
      },
      "source": [
        "'''3 meses'''\n",
        "(plantillaURL.format(y) for y in range (1,4))"
      ],
      "execution_count": 71,
      "outputs": [
        {
          "output_type": "execute_result",
          "data": {
            "text/plain": [
              "<generator object <genexpr> at 0x7f8c608733b8>"
            ]
          },
          "metadata": {
            "tags": []
          },
          "execution_count": 71
        }
      ]
    },
    {
      "cell_type": "code",
      "metadata": {
        "id": "ri9p0b9RLB8m",
        "colab_type": "code",
        "colab": {}
      },
      "source": [
        "for cmd in archivo12m:\n",
        "  os.system(cmd)"
      ],
      "execution_count": 0,
      "outputs": []
    },
    {
      "cell_type": "code",
      "metadata": {
        "id": "neYRXGOfLr-1",
        "colab_type": "code",
        "outputId": "a75baaa6-3d48-4a6b-e0de-db8a64c1ceec",
        "colab": {
          "base_uri": "https://localhost:8080/",
          "height": 136
        }
      },
      "source": [
        "ls"
      ],
      "execution_count": 61,
      "outputs": [
        {
          "output_type": "stream",
          "text": [
            "\u001b[0m\u001b[01;34msample_data\u001b[0m/                 yellow_tripdata_2018-07.csv\n",
            "yellow_tripdata_2018-01.csv  yellow_tripdata_2018-08.csv\n",
            "yellow_tripdata_2018-02.csv  yellow_tripdata_2018-09.csv\n",
            "yellow_tripdata_2018-03.csv  yellow_tripdata_2018-10.csv\n",
            "yellow_tripdata_2018-04.csv  yellow_tripdata_2018-11.csv\n",
            "yellow_tripdata_2018-05.csv  yellow_tripdata_2018-12.csv\n",
            "yellow_tripdata_2018-06.csv\n"
          ],
          "name": "stdout"
        }
      ]
    },
    {
      "cell_type": "code",
      "metadata": {
        "id": "QzuOuwqNv8Ax",
        "colab_type": "code",
        "colab": {}
      },
      "source": [
        "def cuenta_viajes_tardados(dataframe):\n",
        "    dataframe['duracion'] = (dataframe.tpep_dropoff_datetime - dataframe.tpep_pickup_datetime).dt.seconds\n",
        "    es_viaje_tardado = dataframe.duracion > 1200\n",
        "    result_dict = {'n_long': [sum(es_viaje_tardado)], 'n_total': [len(dataframe)]}\n",
        "    return pd.DataFrame(result_dict)"
      ],
      "execution_count": 0,
      "outputs": []
    },
    {
      "cell_type": "code",
      "metadata": {
        "id": "YxEGYrXX2UIw",
        "colab_type": "code",
        "colab": {}
      },
      "source": [
        "archivos= [plantilla.format(y) for y in range(1,13)]"
      ],
      "execution_count": 0,
      "outputs": []
    },
    {
      "cell_type": "code",
      "metadata": {
        "id": "orZRFt5fNIU3",
        "colab_type": "code",
        "colab": {}
      },
      "source": [
        "dataframes = (pd.read_csv(archivo, parse_dates=[1,2]) for archivo in archivos)"
      ],
      "execution_count": 0,
      "outputs": []
    },
    {
      "cell_type": "code",
      "metadata": {
        "id": "VT6_Ym42v1yW",
        "colab_type": "code",
        "colab": {}
      },
      "source": [
        "totales = (cuenta_viajes_tardados(df) for df in dataframes)"
      ],
      "execution_count": 0,
      "outputs": []
    },
    {
      "cell_type": "code",
      "metadata": {
        "id": "BEN9oh1HejH1",
        "colab_type": "code",
        "colab": {}
      },
      "source": [
        "totalesTrimestrales= sum(totales)"
      ],
      "execution_count": 0,
      "outputs": []
    },
    {
      "cell_type": "code",
      "metadata": {
        "id": "M4LklL99eoV7",
        "colab_type": "code",
        "outputId": "a624467f-fcd3-4991-fdee-5a5a2aad06ed",
        "colab": {
          "base_uri": "https://localhost:8080/",
          "height": 80
        }
      },
      "source": [
        "totalesTrimestrales"
      ],
      "execution_count": 67,
      "outputs": [
        {
          "output_type": "execute_result",
          "data": {
            "text/html": [
              "<div>\n",
              "<style scoped>\n",
              "    .dataframe tbody tr th:only-of-type {\n",
              "        vertical-align: middle;\n",
              "    }\n",
              "\n",
              "    .dataframe tbody tr th {\n",
              "        vertical-align: top;\n",
              "    }\n",
              "\n",
              "    .dataframe thead th {\n",
              "        text-align: right;\n",
              "    }\n",
              "</style>\n",
              "<table border=\"1\" class=\"dataframe\">\n",
              "  <thead>\n",
              "    <tr style=\"text-align: right;\">\n",
              "      <th></th>\n",
              "      <th>n_long</th>\n",
              "      <th>n_total</th>\n",
              "    </tr>\n",
              "  </thead>\n",
              "  <tbody>\n",
              "    <tr>\n",
              "      <th>0</th>\n",
              "      <td>22166137</td>\n",
              "      <td>102804250</td>\n",
              "    </tr>\n",
              "  </tbody>\n",
              "</table>\n",
              "</div>"
            ],
            "text/plain": [
              "     n_long    n_total\n",
              "0  22166137  102804250"
            ]
          },
          "metadata": {
            "tags": []
          },
          "execution_count": 67
        }
      ]
    },
    {
      "cell_type": "code",
      "metadata": {
        "id": "EkEtpvqye74L",
        "colab_type": "code",
        "colab": {
          "base_uri": "https://localhost:8080/",
          "height": 51
        },
        "outputId": "9074325a-bca4-4405-ac62-740f9dddb175"
      },
      "source": [
        "totalesTrimestrales['n_long'] / totalesTrimestrales['n_total']"
      ],
      "execution_count": 68,
      "outputs": [
        {
          "output_type": "execute_result",
          "data": {
            "text/plain": [
              "0    0.215615\n",
              "dtype: float64"
            ]
          },
          "metadata": {
            "tags": []
          },
          "execution_count": 68
        }
      ]
    },
    {
      "cell_type": "code",
      "metadata": {
        "id": "UislSWsr4kZ5",
        "colab_type": "code",
        "colab": {
          "base_uri": "https://localhost:8080/",
          "height": 34
        },
        "outputId": "9002f9d4-92bf-42c2-f15e-4c9351ea3fde"
      },
      "source": [
        "huella_memoria()"
      ],
      "execution_count": 70,
      "outputs": [
        {
          "output_type": "execute_result",
          "data": {
            "text/plain": [
              "5455.0859375"
            ]
          },
          "metadata": {
            "tags": []
          },
          "execution_count": 70
        }
      ]
    },
    {
      "cell_type": "code",
      "metadata": {
        "id": "uGAjuLzd9aju",
        "colab_type": "code",
        "colab": {}
      },
      "source": [
        ""
      ],
      "execution_count": 0,
      "outputs": []
    }
  ]
}