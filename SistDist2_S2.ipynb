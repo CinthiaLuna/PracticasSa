{
  "nbformat": 4,
  "nbformat_minor": 0,
  "metadata": {
    "colab": {
      "name": "SistDist2_S2.ipynb",
      "version": "0.3.2",
      "provenance": [],
      "include_colab_link": true
    },
    "kernelspec": {
      "name": "python3",
      "display_name": "Python 3"
    }
  },
  "cells": [
    {
      "cell_type": "markdown",
      "metadata": {
        "id": "view-in-github",
        "colab_type": "text"
      },
      "source": [
        "<a href=\"https://colab.research.google.com/github/CinthiaLuna/PracticasSa/blob/master/SistDist2_S2.ipynb\" target=\"_parent\"><img src=\"https://colab.research.google.com/assets/colab-badge.svg\" alt=\"Open In Colab\"/></a>"
      ]
    },
    {
      "cell_type": "markdown",
      "metadata": {
        "id": "rexh56_26l7Y",
        "colab_type": "text"
      },
      "source": [
        "#Resumen semana 1\n",
        "Debimos saber:\n",
        "* Como se \"guarda\" información en la cmputadora, uso de memoria"
      ]
    },
    {
      "cell_type": "code",
      "metadata": {
        "id": "NZC9C6mC6XWf",
        "colab_type": "code",
        "colab": {
          "base_uri": "https://localhost:8080/",
          "height": 34
        },
        "outputId": "c2e021c0-6cb0-47cc-9662-6c12d11d6e82"
      },
      "source": [
        "import numpy as np \n",
        "import pandas as pd\n",
        "import psutil, os\n",
        "\n",
        "def huella_de_memoria():\n",
        "  '''Regresa la memoria usada por un proceso en python'''\n",
        "  mem = psutil.Process(os.getpid()).memory_info().rss\n",
        "  return (mem /1024**2)\n",
        "\n",
        "antes = huella_de_memoria()\n",
        "x**2\n",
        "despues = huella_de_memoria()\n",
        "print('Memoria asignada por')"
      ],
      "execution_count": 3,
      "outputs": [
        {
          "output_type": "execute_result",
          "data": {
            "text/plain": [
              "'Aqui falta un poco de codigo'"
            ]
          },
          "metadata": {
            "tags": []
          },
          "execution_count": 3
        }
      ]
    },
    {
      "cell_type": "code",
      "metadata": {
        "id": "kvRBr2ql9BBi",
        "colab_type": "code",
        "colab": {}
      },
      "source": [
        "df = pd.DataFrame(x)"
      ],
      "execution_count": 0,
      "outputs": []
    },
    {
      "cell_type": "markdown",
      "metadata": {
        "id": "se-PUFgG_Vre",
        "colab_type": "text"
      },
      "source": [
        "#Semana 2\n",
        "comenzaremos descargando los datos\n",
        "https://www1.nyc.gov/site/tlc/about/tlc-trip-record-data.page"
      ]
    },
    {
      "cell_type": "code",
      "metadata": {
        "id": "VdPxZ7a6Ccjx",
        "colab_type": "code",
        "colab": {
          "base_uri": "https://localhost:8080/",
          "height": 202
        },
        "outputId": "1361fb3d-51cc-4eff-a8d4-47044912f67a"
      },
      "source": [
        "!wget https://s3.amazonaws.com/nyc-tlc/trip+data/yellow_tripdata_2018-01.csv"
      ],
      "execution_count": 4,
      "outputs": [
        {
          "output_type": "stream",
          "text": [
            "--2019-05-14 15:53:10--  https://s3.amazonaws.com/nyc-tlc/trip+data/yellow_tripdata_2018-01.csv\n",
            "Resolving s3.amazonaws.com (s3.amazonaws.com)... 52.217.1.126\n",
            "Connecting to s3.amazonaws.com (s3.amazonaws.com)|52.217.1.126|:443... connected.\n",
            "HTTP request sent, awaiting response... 200 OK\n",
            "Length: 772098307 (736M) [text/csv]\n",
            "Saving to: ‘yellow_tripdata_2018-01.csv’\n",
            "\n",
            "yellow_tripdata_201 100%[===================>] 736.33M  44.3MB/s    in 17s     \n",
            "\n",
            "2019-05-14 15:53:27 (42.9 MB/s) - ‘yellow_tripdata_2018-01.csv’ saved [772098307/772098307]\n",
            "\n"
          ],
          "name": "stdout"
        }
      ]
    },
    {
      "cell_type": "code",
      "metadata": {
        "id": "TEZRWOA_DCtP",
        "colab_type": "code",
        "colab": {
          "base_uri": "https://localhost:8080/",
          "height": 34
        },
        "outputId": "9de507e7-f2c2-4370-cd25-cb900ceff1c4"
      },
      "source": [
        "ls"
      ],
      "execution_count": 5,
      "outputs": [
        {
          "output_type": "stream",
          "text": [
            "\u001b[0m\u001b[01;34msample_data\u001b[0m/  yellow_tripdata_2018-01.csv\n"
          ],
          "name": "stdout"
        }
      ]
    },
    {
      "cell_type": "code",
      "metadata": {
        "id": "zk6QtfRjDqRW",
        "colab_type": "code",
        "colab": {
          "base_uri": "https://localhost:8080/",
          "height": 67
        },
        "outputId": "4b8e62a1-3c65-4df7-e215-8b3370bd189d"
      },
      "source": [
        "ls -l"
      ],
      "execution_count": 6,
      "outputs": [
        {
          "output_type": "stream",
          "text": [
            "total 754012\n",
            "drwxr-xr-x 1 root root      4096 May  8 16:22 \u001b[0m\u001b[01;34msample_data\u001b[0m/\n",
            "-rw-r--r-- 1 root root 772098307 Aug  3  2018 yellow_tripdata_2018-01.csv\n"
          ],
          "name": "stdout"
        }
      ]
    },
    {
      "cell_type": "code",
      "metadata": {
        "id": "kgCJOe0YDvg-",
        "colab_type": "code",
        "colab": {
          "base_uri": "https://localhost:8080/",
          "height": 34
        },
        "outputId": "8cf9ecd0-be3f-4b18-8e71-836e6164a995"
      },
      "source": [
        "!wc -l yellow_tripdata_2018-01.csv"
      ],
      "execution_count": 7,
      "outputs": [
        {
          "output_type": "stream",
          "text": [
            "8759876 yellow_tripdata_2018-01.csv\n"
          ],
          "name": "stdout"
        }
      ]
    },
    {
      "cell_type": "markdown",
      "metadata": {
        "id": "te-PZjqfESwA",
        "colab_type": "text"
      },
      "source": [
        "* Programa para descargar toda la base de taxis del 2018 para automatizar la descarga"
      ]
    },
    {
      "cell_type": "code",
      "metadata": {
        "id": "BKwVBMnrD3me",
        "colab_type": "code",
        "colab": {}
      },
      "source": [
        "plantilla = 'yellow_tripdata_2018-{:02d}.csv'\n",
        "plantillaURL = 'wget https://s3.amazonaws.com/nyc-tlc/trip+data/yellow_tripdata_2018-01.csv' + plantilla\n"
      ],
      "execution_count": 0,
      "outputs": []
    },
    {
      "cell_type": "code",
      "metadata": {
        "id": "n1rWdabWE-WB",
        "colab_type": "code",
        "colab": {}
      },
      "source": [
        "'''Creada con for'''\n",
        "for y in range(1,13):\n",
        "  print(plantillaURL.format(y))"
      ],
      "execution_count": 0,
      "outputs": []
    },
    {
      "cell_type": "code",
      "metadata": {
        "id": "BRjai3c8FSnq",
        "colab_type": "code",
        "colab": {}
      },
      "source": [
        "'''Creada con listas'''\n",
        "comandos =[plantillaURL.format(y) for y in range (1,13)]"
      ],
      "execution_count": 0,
      "outputs": []
    },
    {
      "cell_type": "code",
      "metadata": {
        "id": "nvofma2YGFSK",
        "colab_type": "code",
        "colab": {
          "base_uri": "https://localhost:8080/",
          "height": 218
        },
        "outputId": "0f6cba01-ce32-4231-df9e-fc8f0d16fd09"
      },
      "source": [
        "comandos"
      ],
      "execution_count": 12,
      "outputs": [
        {
          "output_type": "execute_result",
          "data": {
            "text/plain": [
              "['wget https://s3.amazonaws.com/nyc-tlc/trip+data/yellow_tripdata_2018-01.csvyellow_tripdata_2018-01.csv',\n",
              " 'wget https://s3.amazonaws.com/nyc-tlc/trip+data/yellow_tripdata_2018-01.csvyellow_tripdata_2018-02.csv',\n",
              " 'wget https://s3.amazonaws.com/nyc-tlc/trip+data/yellow_tripdata_2018-01.csvyellow_tripdata_2018-03.csv',\n",
              " 'wget https://s3.amazonaws.com/nyc-tlc/trip+data/yellow_tripdata_2018-01.csvyellow_tripdata_2018-04.csv',\n",
              " 'wget https://s3.amazonaws.com/nyc-tlc/trip+data/yellow_tripdata_2018-01.csvyellow_tripdata_2018-05.csv',\n",
              " 'wget https://s3.amazonaws.com/nyc-tlc/trip+data/yellow_tripdata_2018-01.csvyellow_tripdata_2018-06.csv',\n",
              " 'wget https://s3.amazonaws.com/nyc-tlc/trip+data/yellow_tripdata_2018-01.csvyellow_tripdata_2018-07.csv',\n",
              " 'wget https://s3.amazonaws.com/nyc-tlc/trip+data/yellow_tripdata_2018-01.csvyellow_tripdata_2018-08.csv',\n",
              " 'wget https://s3.amazonaws.com/nyc-tlc/trip+data/yellow_tripdata_2018-01.csvyellow_tripdata_2018-09.csv',\n",
              " 'wget https://s3.amazonaws.com/nyc-tlc/trip+data/yellow_tripdata_2018-01.csvyellow_tripdata_2018-10.csv',\n",
              " 'wget https://s3.amazonaws.com/nyc-tlc/trip+data/yellow_tripdata_2018-01.csvyellow_tripdata_2018-11.csv',\n",
              " 'wget https://s3.amazonaws.com/nyc-tlc/trip+data/yellow_tripdata_2018-01.csvyellow_tripdata_2018-12.csv']"
            ]
          },
          "metadata": {
            "tags": []
          },
          "execution_count": 12
        }
      ]
    },
    {
      "cell_type": "code",
      "metadata": {
        "id": "VDH6ffxPGHua",
        "colab_type": "code",
        "colab": {
          "base_uri": "https://localhost:8080/",
          "height": 34
        },
        "outputId": "1135259e-ee1a-4469-8374-d67dbeeb21ed"
      },
      "source": [
        "'''Para realizar un generador de objetos que se manda a traer el espacio de memoria siempre y cuando se utilices'''\n",
        "(plantillaURL.format(y) for y in range (1,13))"
      ],
      "execution_count": 13,
      "outputs": [
        {
          "output_type": "execute_result",
          "data": {
            "text/plain": [
              "<generator object <genexpr> at 0x7f362971bd58>"
            ]
          },
          "metadata": {
            "tags": []
          },
          "execution_count": 13
        }
      ]
    },
    {
      "cell_type": "code",
      "metadata": {
        "id": "ScQxt_LRHaYh",
        "colab_type": "code",
        "colab": {}
      },
      "source": [
        "#vamos a descargar los datos usando la instruccion en la lista de comandos\n",
        "comandos = [plantillaURL.format(y) for y in range (1,4)]\n",
        "for cmd in comandos:\n",
        "  os.system(cmd)"
      ],
      "execution_count": 0,
      "outputs": []
    },
    {
      "cell_type": "code",
      "metadata": {
        "id": "xga0lNUtH2a8",
        "colab_type": "code",
        "colab": {
          "base_uri": "https://localhost:8080/",
          "height": 34
        },
        "outputId": "b82981ae-e62f-41a8-84e1-a929f539da1c"
      },
      "source": [
        "ls"
      ],
      "execution_count": 78,
      "outputs": [
        {
          "output_type": "stream",
          "text": [
            "\u001b[0m\u001b[01;34msample_data\u001b[0m/  yellow_tripdata_2018-01.csv\n"
          ],
          "name": "stdout"
        }
      ]
    },
    {
      "cell_type": "markdown",
      "metadata": {
        "id": "V78llbAaIF82",
        "colab_type": "text"
      },
      "source": [
        "#Accediendo a los datos con pandas"
      ]
    },
    {
      "cell_type": "code",
      "metadata": {
        "id": "OiHtazntH8t0",
        "colab_type": "code",
        "colab": {}
      },
      "source": [
        "archivo = 'yellow_tripdata_2018-01.csv'"
      ],
      "execution_count": 0,
      "outputs": []
    },
    {
      "cell_type": "code",
      "metadata": {
        "id": "-rBAhUlCIXwF",
        "colab_type": "code",
        "colab": {}
      },
      "source": [
        "df = pd.read_csv(archivo)"
      ],
      "execution_count": 0,
      "outputs": []
    },
    {
      "cell_type": "code",
      "metadata": {
        "id": "OiIpBZ0xIgcg",
        "colab_type": "code",
        "colab": {
          "base_uri": "https://localhost:8080/",
          "height": 319
        },
        "outputId": "f402fab0-4023-46c7-bebf-1fb5cfd601c8"
      },
      "source": [
        "df.memory_usage(index = False) / (1024**2)"
      ],
      "execution_count": 24,
      "outputs": [
        {
          "output_type": "execute_result",
          "data": {
            "text/plain": [
              "VendorID                 66.832535\n",
              "tpep_pickup_datetime     66.832535\n",
              "tpep_dropoff_datetime    66.832535\n",
              "passenger_count          66.832535\n",
              "trip_distance            66.832535\n",
              "RatecodeID               66.832535\n",
              "store_and_fwd_flag       66.832535\n",
              "PULocationID             66.832535\n",
              "DOLocationID             66.832535\n",
              "payment_type             66.832535\n",
              "fare_amount              66.832535\n",
              "extra                    66.832535\n",
              "mta_tax                  66.832535\n",
              "tip_amount               66.832535\n",
              "tolls_amount             66.832535\n",
              "improvement_surcharge    66.832535\n",
              "total_amount             66.832535\n",
              "dtype: float64"
            ]
          },
          "metadata": {
            "tags": []
          },
          "execution_count": 24
        }
      ]
    },
    {
      "cell_type": "code",
      "metadata": {
        "id": "bCl-hCSeIvzh",
        "colab_type": "code",
        "colab": {
          "base_uri": "https://localhost:8080/",
          "height": 34
        },
        "outputId": "1a04870a-307c-475a-bda6-c5e02afe76de"
      },
      "source": [
        "sum(df.memory_usage(index =False)/(1024**2))"
      ],
      "execution_count": 25,
      "outputs": [
        {
          "output_type": "execute_result",
          "data": {
            "text/plain": [
              "1136.153091430664"
            ]
          },
          "metadata": {
            "tags": []
          },
          "execution_count": 25
        }
      ]
    },
    {
      "cell_type": "markdown",
      "metadata": {
        "id": "lkA_UCRDJtRq",
        "colab_type": "text"
      },
      "source": [
        "ponemos la lectura en trozos para poder ocupar menos memoria"
      ]
    },
    {
      "cell_type": "code",
      "metadata": {
        "id": "FJ8uHoJBJPRc",
        "colab_type": "code",
        "colab": {
          "base_uri": "https://localhost:8080/",
          "height": 2974
        },
        "outputId": "ad428948-0cfc-4d6b-9bdc-3e839519a240"
      },
      "source": [
        "for trozo in pd.read_csv(archivo, chunksize=50000):\n",
        "  print('type: %s shape %s'%(type(trozo), trozo.shape))"
      ],
      "execution_count": 28,
      "outputs": [
        {
          "output_type": "stream",
          "text": [
            "type: <class 'pandas.core.frame.DataFrame'> shape (50000, 17)\n",
            "type: <class 'pandas.core.frame.DataFrame'> shape (50000, 17)\n",
            "type: <class 'pandas.core.frame.DataFrame'> shape (50000, 17)\n",
            "type: <class 'pandas.core.frame.DataFrame'> shape (50000, 17)\n",
            "type: <class 'pandas.core.frame.DataFrame'> shape (50000, 17)\n",
            "type: <class 'pandas.core.frame.DataFrame'> shape (50000, 17)\n",
            "type: <class 'pandas.core.frame.DataFrame'> shape (50000, 17)\n",
            "type: <class 'pandas.core.frame.DataFrame'> shape (50000, 17)\n",
            "type: <class 'pandas.core.frame.DataFrame'> shape (50000, 17)\n",
            "type: <class 'pandas.core.frame.DataFrame'> shape (50000, 17)\n",
            "type: <class 'pandas.core.frame.DataFrame'> shape (50000, 17)\n",
            "type: <class 'pandas.core.frame.DataFrame'> shape (50000, 17)\n",
            "type: <class 'pandas.core.frame.DataFrame'> shape (50000, 17)\n",
            "type: <class 'pandas.core.frame.DataFrame'> shape (50000, 17)\n",
            "type: <class 'pandas.core.frame.DataFrame'> shape (50000, 17)\n",
            "type: <class 'pandas.core.frame.DataFrame'> shape (50000, 17)\n",
            "type: <class 'pandas.core.frame.DataFrame'> shape (50000, 17)\n",
            "type: <class 'pandas.core.frame.DataFrame'> shape (50000, 17)\n",
            "type: <class 'pandas.core.frame.DataFrame'> shape (50000, 17)\n",
            "type: <class 'pandas.core.frame.DataFrame'> shape (50000, 17)\n",
            "type: <class 'pandas.core.frame.DataFrame'> shape (50000, 17)\n",
            "type: <class 'pandas.core.frame.DataFrame'> shape (50000, 17)\n",
            "type: <class 'pandas.core.frame.DataFrame'> shape (50000, 17)\n",
            "type: <class 'pandas.core.frame.DataFrame'> shape (50000, 17)\n",
            "type: <class 'pandas.core.frame.DataFrame'> shape (50000, 17)\n",
            "type: <class 'pandas.core.frame.DataFrame'> shape (50000, 17)\n",
            "type: <class 'pandas.core.frame.DataFrame'> shape (50000, 17)\n",
            "type: <class 'pandas.core.frame.DataFrame'> shape (50000, 17)\n",
            "type: <class 'pandas.core.frame.DataFrame'> shape (50000, 17)\n",
            "type: <class 'pandas.core.frame.DataFrame'> shape (50000, 17)\n",
            "type: <class 'pandas.core.frame.DataFrame'> shape (50000, 17)\n",
            "type: <class 'pandas.core.frame.DataFrame'> shape (50000, 17)\n",
            "type: <class 'pandas.core.frame.DataFrame'> shape (50000, 17)\n",
            "type: <class 'pandas.core.frame.DataFrame'> shape (50000, 17)\n",
            "type: <class 'pandas.core.frame.DataFrame'> shape (50000, 17)\n",
            "type: <class 'pandas.core.frame.DataFrame'> shape (50000, 17)\n",
            "type: <class 'pandas.core.frame.DataFrame'> shape (50000, 17)\n",
            "type: <class 'pandas.core.frame.DataFrame'> shape (50000, 17)\n",
            "type: <class 'pandas.core.frame.DataFrame'> shape (50000, 17)\n",
            "type: <class 'pandas.core.frame.DataFrame'> shape (50000, 17)\n",
            "type: <class 'pandas.core.frame.DataFrame'> shape (50000, 17)\n",
            "type: <class 'pandas.core.frame.DataFrame'> shape (50000, 17)\n",
            "type: <class 'pandas.core.frame.DataFrame'> shape (50000, 17)\n",
            "type: <class 'pandas.core.frame.DataFrame'> shape (50000, 17)\n",
            "type: <class 'pandas.core.frame.DataFrame'> shape (50000, 17)\n",
            "type: <class 'pandas.core.frame.DataFrame'> shape (50000, 17)\n",
            "type: <class 'pandas.core.frame.DataFrame'> shape (50000, 17)\n",
            "type: <class 'pandas.core.frame.DataFrame'> shape (50000, 17)\n",
            "type: <class 'pandas.core.frame.DataFrame'> shape (50000, 17)\n",
            "type: <class 'pandas.core.frame.DataFrame'> shape (50000, 17)\n",
            "type: <class 'pandas.core.frame.DataFrame'> shape (50000, 17)\n",
            "type: <class 'pandas.core.frame.DataFrame'> shape (50000, 17)\n",
            "type: <class 'pandas.core.frame.DataFrame'> shape (50000, 17)\n",
            "type: <class 'pandas.core.frame.DataFrame'> shape (50000, 17)\n",
            "type: <class 'pandas.core.frame.DataFrame'> shape (50000, 17)\n",
            "type: <class 'pandas.core.frame.DataFrame'> shape (50000, 17)\n",
            "type: <class 'pandas.core.frame.DataFrame'> shape (50000, 17)\n",
            "type: <class 'pandas.core.frame.DataFrame'> shape (50000, 17)\n",
            "type: <class 'pandas.core.frame.DataFrame'> shape (50000, 17)\n",
            "type: <class 'pandas.core.frame.DataFrame'> shape (50000, 17)\n",
            "type: <class 'pandas.core.frame.DataFrame'> shape (50000, 17)\n",
            "type: <class 'pandas.core.frame.DataFrame'> shape (50000, 17)\n",
            "type: <class 'pandas.core.frame.DataFrame'> shape (50000, 17)\n",
            "type: <class 'pandas.core.frame.DataFrame'> shape (50000, 17)\n",
            "type: <class 'pandas.core.frame.DataFrame'> shape (50000, 17)\n",
            "type: <class 'pandas.core.frame.DataFrame'> shape (50000, 17)\n",
            "type: <class 'pandas.core.frame.DataFrame'> shape (50000, 17)\n",
            "type: <class 'pandas.core.frame.DataFrame'> shape (50000, 17)\n",
            "type: <class 'pandas.core.frame.DataFrame'> shape (50000, 17)\n",
            "type: <class 'pandas.core.frame.DataFrame'> shape (50000, 17)\n",
            "type: <class 'pandas.core.frame.DataFrame'> shape (50000, 17)\n",
            "type: <class 'pandas.core.frame.DataFrame'> shape (50000, 17)\n",
            "type: <class 'pandas.core.frame.DataFrame'> shape (50000, 17)\n",
            "type: <class 'pandas.core.frame.DataFrame'> shape (50000, 17)\n",
            "type: <class 'pandas.core.frame.DataFrame'> shape (50000, 17)\n",
            "type: <class 'pandas.core.frame.DataFrame'> shape (50000, 17)\n",
            "type: <class 'pandas.core.frame.DataFrame'> shape (50000, 17)\n",
            "type: <class 'pandas.core.frame.DataFrame'> shape (50000, 17)\n",
            "type: <class 'pandas.core.frame.DataFrame'> shape (50000, 17)\n",
            "type: <class 'pandas.core.frame.DataFrame'> shape (50000, 17)\n",
            "type: <class 'pandas.core.frame.DataFrame'> shape (50000, 17)\n",
            "type: <class 'pandas.core.frame.DataFrame'> shape (50000, 17)\n",
            "type: <class 'pandas.core.frame.DataFrame'> shape (50000, 17)\n",
            "type: <class 'pandas.core.frame.DataFrame'> shape (50000, 17)\n",
            "type: <class 'pandas.core.frame.DataFrame'> shape (50000, 17)\n",
            "type: <class 'pandas.core.frame.DataFrame'> shape (50000, 17)\n",
            "type: <class 'pandas.core.frame.DataFrame'> shape (50000, 17)\n",
            "type: <class 'pandas.core.frame.DataFrame'> shape (50000, 17)\n",
            "type: <class 'pandas.core.frame.DataFrame'> shape (50000, 17)\n",
            "type: <class 'pandas.core.frame.DataFrame'> shape (50000, 17)\n",
            "type: <class 'pandas.core.frame.DataFrame'> shape (50000, 17)\n",
            "type: <class 'pandas.core.frame.DataFrame'> shape (50000, 17)\n",
            "type: <class 'pandas.core.frame.DataFrame'> shape (50000, 17)\n",
            "type: <class 'pandas.core.frame.DataFrame'> shape (50000, 17)\n",
            "type: <class 'pandas.core.frame.DataFrame'> shape (50000, 17)\n",
            "type: <class 'pandas.core.frame.DataFrame'> shape (50000, 17)\n",
            "type: <class 'pandas.core.frame.DataFrame'> shape (50000, 17)\n",
            "type: <class 'pandas.core.frame.DataFrame'> shape (50000, 17)\n",
            "type: <class 'pandas.core.frame.DataFrame'> shape (50000, 17)\n",
            "type: <class 'pandas.core.frame.DataFrame'> shape (50000, 17)\n",
            "type: <class 'pandas.core.frame.DataFrame'> shape (50000, 17)\n",
            "type: <class 'pandas.core.frame.DataFrame'> shape (50000, 17)\n",
            "type: <class 'pandas.core.frame.DataFrame'> shape (50000, 17)\n",
            "type: <class 'pandas.core.frame.DataFrame'> shape (50000, 17)\n",
            "type: <class 'pandas.core.frame.DataFrame'> shape (50000, 17)\n",
            "type: <class 'pandas.core.frame.DataFrame'> shape (50000, 17)\n",
            "type: <class 'pandas.core.frame.DataFrame'> shape (50000, 17)\n",
            "type: <class 'pandas.core.frame.DataFrame'> shape (50000, 17)\n",
            "type: <class 'pandas.core.frame.DataFrame'> shape (50000, 17)\n",
            "type: <class 'pandas.core.frame.DataFrame'> shape (50000, 17)\n",
            "type: <class 'pandas.core.frame.DataFrame'> shape (50000, 17)\n",
            "type: <class 'pandas.core.frame.DataFrame'> shape (50000, 17)\n",
            "type: <class 'pandas.core.frame.DataFrame'> shape (50000, 17)\n",
            "type: <class 'pandas.core.frame.DataFrame'> shape (50000, 17)\n",
            "type: <class 'pandas.core.frame.DataFrame'> shape (50000, 17)\n",
            "type: <class 'pandas.core.frame.DataFrame'> shape (50000, 17)\n",
            "type: <class 'pandas.core.frame.DataFrame'> shape (50000, 17)\n",
            "type: <class 'pandas.core.frame.DataFrame'> shape (50000, 17)\n",
            "type: <class 'pandas.core.frame.DataFrame'> shape (50000, 17)\n",
            "type: <class 'pandas.core.frame.DataFrame'> shape (50000, 17)\n",
            "type: <class 'pandas.core.frame.DataFrame'> shape (50000, 17)\n",
            "type: <class 'pandas.core.frame.DataFrame'> shape (50000, 17)\n",
            "type: <class 'pandas.core.frame.DataFrame'> shape (50000, 17)\n",
            "type: <class 'pandas.core.frame.DataFrame'> shape (50000, 17)\n",
            "type: <class 'pandas.core.frame.DataFrame'> shape (50000, 17)\n",
            "type: <class 'pandas.core.frame.DataFrame'> shape (50000, 17)\n",
            "type: <class 'pandas.core.frame.DataFrame'> shape (50000, 17)\n",
            "type: <class 'pandas.core.frame.DataFrame'> shape (50000, 17)\n",
            "type: <class 'pandas.core.frame.DataFrame'> shape (50000, 17)\n",
            "type: <class 'pandas.core.frame.DataFrame'> shape (50000, 17)\n",
            "type: <class 'pandas.core.frame.DataFrame'> shape (50000, 17)\n",
            "type: <class 'pandas.core.frame.DataFrame'> shape (50000, 17)\n",
            "type: <class 'pandas.core.frame.DataFrame'> shape (50000, 17)\n",
            "type: <class 'pandas.core.frame.DataFrame'> shape (50000, 17)\n",
            "type: <class 'pandas.core.frame.DataFrame'> shape (50000, 17)\n",
            "type: <class 'pandas.core.frame.DataFrame'> shape (50000, 17)\n",
            "type: <class 'pandas.core.frame.DataFrame'> shape (50000, 17)\n",
            "type: <class 'pandas.core.frame.DataFrame'> shape (50000, 17)\n",
            "type: <class 'pandas.core.frame.DataFrame'> shape (50000, 17)\n",
            "type: <class 'pandas.core.frame.DataFrame'> shape (50000, 17)\n",
            "type: <class 'pandas.core.frame.DataFrame'> shape (50000, 17)\n",
            "type: <class 'pandas.core.frame.DataFrame'> shape (50000, 17)\n",
            "type: <class 'pandas.core.frame.DataFrame'> shape (50000, 17)\n",
            "type: <class 'pandas.core.frame.DataFrame'> shape (50000, 17)\n",
            "type: <class 'pandas.core.frame.DataFrame'> shape (50000, 17)\n",
            "type: <class 'pandas.core.frame.DataFrame'> shape (50000, 17)\n",
            "type: <class 'pandas.core.frame.DataFrame'> shape (50000, 17)\n",
            "type: <class 'pandas.core.frame.DataFrame'> shape (50000, 17)\n",
            "type: <class 'pandas.core.frame.DataFrame'> shape (50000, 17)\n",
            "type: <class 'pandas.core.frame.DataFrame'> shape (50000, 17)\n",
            "type: <class 'pandas.core.frame.DataFrame'> shape (50000, 17)\n",
            "type: <class 'pandas.core.frame.DataFrame'> shape (50000, 17)\n",
            "type: <class 'pandas.core.frame.DataFrame'> shape (50000, 17)\n",
            "type: <class 'pandas.core.frame.DataFrame'> shape (50000, 17)\n",
            "type: <class 'pandas.core.frame.DataFrame'> shape (50000, 17)\n",
            "type: <class 'pandas.core.frame.DataFrame'> shape (50000, 17)\n",
            "type: <class 'pandas.core.frame.DataFrame'> shape (50000, 17)\n",
            "type: <class 'pandas.core.frame.DataFrame'> shape (50000, 17)\n",
            "type: <class 'pandas.core.frame.DataFrame'> shape (50000, 17)\n",
            "type: <class 'pandas.core.frame.DataFrame'> shape (50000, 17)\n",
            "type: <class 'pandas.core.frame.DataFrame'> shape (50000, 17)\n",
            "type: <class 'pandas.core.frame.DataFrame'> shape (50000, 17)\n",
            "type: <class 'pandas.core.frame.DataFrame'> shape (50000, 17)\n",
            "type: <class 'pandas.core.frame.DataFrame'> shape (50000, 17)\n",
            "type: <class 'pandas.core.frame.DataFrame'> shape (50000, 17)\n",
            "type: <class 'pandas.core.frame.DataFrame'> shape (50000, 17)\n",
            "type: <class 'pandas.core.frame.DataFrame'> shape (50000, 17)\n",
            "type: <class 'pandas.core.frame.DataFrame'> shape (50000, 17)\n",
            "type: <class 'pandas.core.frame.DataFrame'> shape (50000, 17)\n",
            "type: <class 'pandas.core.frame.DataFrame'> shape (50000, 17)\n",
            "type: <class 'pandas.core.frame.DataFrame'> shape (50000, 17)\n",
            "type: <class 'pandas.core.frame.DataFrame'> shape (50000, 17)\n",
            "type: <class 'pandas.core.frame.DataFrame'> shape (50000, 17)\n",
            "type: <class 'pandas.core.frame.DataFrame'> shape (50000, 17)\n",
            "type: <class 'pandas.core.frame.DataFrame'> shape (50000, 17)\n",
            "type: <class 'pandas.core.frame.DataFrame'> shape (9874, 17)\n"
          ],
          "name": "stdout"
        }
      ]
    },
    {
      "cell_type": "code",
      "metadata": {
        "id": "PPNRIT6vKBVM",
        "colab_type": "code",
        "colab": {
          "base_uri": "https://localhost:8080/",
          "height": 34
        },
        "outputId": "ac260ef9-9c1c-46cf-a5b8-d0a77b08c913"
      },
      "source": [
        "trozo.shape"
      ],
      "execution_count": 29,
      "outputs": [
        {
          "output_type": "execute_result",
          "data": {
            "text/plain": [
              "(9874, 17)"
            ]
          },
          "metadata": {
            "tags": []
          },
          "execution_count": 29
        }
      ]
    },
    {
      "cell_type": "code",
      "metadata": {
        "id": "-YFABmFbLxZH",
        "colab_type": "code",
        "colab": {
          "base_uri": "https://localhost:8080/",
          "height": 4267
        },
        "outputId": "fb22835b-1557-4bfe-9376-0573415bd4a0"
      },
      "source": [
        "trozo.info"
      ],
      "execution_count": 30,
      "outputs": [
        {
          "output_type": "execute_result",
          "data": {
            "text/plain": [
              "<bound method DataFrame.info of          VendorID tpep_pickup_datetime tpep_dropoff_datetime  passenger_count  \\\n",
              "8750000         2  2018-01-31 23:36:22   2018-01-31 23:46:11                1   \n",
              "8750001         1  2018-01-31 23:41:34   2018-01-31 23:45:40                2   \n",
              "8750002         1  2018-01-31 23:26:35   2018-01-31 23:29:48                2   \n",
              "8750003         1  2018-01-31 23:15:56   2018-01-31 23:16:09                1   \n",
              "8750004         1  2018-01-31 23:17:26   2018-01-31 23:17:42                1   \n",
              "8750005         1  2018-01-31 23:18:24   2018-01-31 23:18:24                1   \n",
              "8750006         1  2018-01-31 23:01:11   2018-01-31 23:26:10                3   \n",
              "8750007         1  2018-01-31 23:36:10   2018-01-31 23:47:24                1   \n",
              "8750008         2  2018-01-31 23:04:06   2018-01-31 23:17:09                2   \n",
              "8750009         2  2018-01-31 23:24:14   2018-01-31 23:42:17                2   \n",
              "8750010         2  2018-01-31 23:50:30   2018-02-01 00:09:31                2   \n",
              "8750011         1  2018-01-31 23:01:23   2018-01-31 23:12:03                1   \n",
              "8750012         1  2018-01-31 23:30:37   2018-01-31 23:42:21                1   \n",
              "8750013         1  2018-01-31 23:54:13   2018-02-01 00:07:18                1   \n",
              "8750014         1  2018-01-31 23:54:31   2018-02-01 00:19:36                1   \n",
              "8750015         1  2018-01-31 23:04:22   2018-01-31 23:10:28                1   \n",
              "8750016         1  2018-01-31 23:20:33   2018-01-31 23:44:42                1   \n",
              "8750017         1  2018-01-31 23:46:18   2018-01-31 23:50:40                1   \n",
              "8750018         1  2018-01-31 23:10:37   2018-01-31 23:16:43                1   \n",
              "8750019         1  2018-01-31 23:23:36   2018-01-31 23:37:51                1   \n",
              "8750020         2  2018-01-31 23:51:05   2018-02-01 00:00:20                1   \n",
              "8750021         2  2018-01-31 23:00:31   2018-01-31 23:15:12                1   \n",
              "8750022         1  2018-01-31 23:52:56   2018-01-31 23:54:53                1   \n",
              "8750023         2  2018-01-31 23:16:10   2018-01-31 23:44:12                1   \n",
              "8750024         2  2018-01-31 23:46:01   2018-02-01 00:01:42                1   \n",
              "8750025         2  2018-01-31 23:37:40   2018-01-31 23:48:22                2   \n",
              "8750026         2  2018-01-31 23:15:02   2018-01-31 23:23:11                1   \n",
              "8750027         2  2018-01-31 23:25:09   2018-01-31 23:41:08                1   \n",
              "8750028         2  2018-01-31 23:50:31   2018-01-31 23:59:59                1   \n",
              "8750029         2  2018-01-31 23:05:20   2018-01-31 23:11:05                1   \n",
              "...           ...                  ...                   ...              ...   \n",
              "8759844         2  2018-01-31 23:40:38   2018-01-31 23:43:50                1   \n",
              "8759845         2  2018-01-31 23:53:03   2018-02-01 00:09:22                1   \n",
              "8759846         2  2018-01-31 23:31:18   2018-01-31 23:43:41                2   \n",
              "8759847         2  2018-01-31 23:55:15   2018-02-01 00:06:49                3   \n",
              "8759848         1  2018-01-31 23:08:35   2018-01-31 23:16:05                1   \n",
              "8759849         2  2018-01-31 23:03:31   2018-01-31 23:17:20                3   \n",
              "8759850         2  2018-01-31 23:28:47   2018-01-31 23:35:54                3   \n",
              "8759851         2  2018-01-31 23:01:38   2018-01-31 23:24:36                1   \n",
              "8759852         2  2018-01-31 23:35:33   2018-02-01 00:04:11                1   \n",
              "8759853         2  2018-01-31 23:11:36   2018-01-31 23:33:28                1   \n",
              "8759854         2  2018-01-31 23:37:29   2018-01-31 23:51:45                1   \n",
              "8759855         2  2018-01-31 23:39:15   2018-01-31 23:43:37                1   \n",
              "8759856         2  2018-01-31 23:25:02   2018-01-31 23:55:33                1   \n",
              "8759857         1  2018-01-31 23:17:00   2018-01-31 23:24:37                1   \n",
              "8759858         1  2018-01-31 23:26:11   2018-01-31 23:29:53                1   \n",
              "8759859         2  2018-01-31 23:11:59   2018-01-31 23:31:33                2   \n",
              "8759860         1  2018-01-31 23:54:57   2018-02-01 00:29:56                1   \n",
              "8759861         2  2018-01-31 23:11:56   2018-01-31 23:13:53                1   \n",
              "8759862         2  2018-01-31 23:16:59   2018-01-31 23:23:10                1   \n",
              "8759863         2  2018-01-31 23:08:48   2018-01-31 23:24:17                1   \n",
              "8759864         1  2018-01-31 23:05:11   2018-01-31 23:13:53                1   \n",
              "8759865         1  2018-01-31 23:41:11   2018-01-31 23:45:22                1   \n",
              "8759866         1  2018-01-31 23:52:53   2018-01-31 23:57:32                1   \n",
              "8759867         2  2018-01-31 23:20:51   2018-01-31 23:30:51                1   \n",
              "8759868         2  2018-01-31 23:57:33   2018-02-01 00:07:44                1   \n",
              "8759869         1  2018-01-31 23:21:35   2018-01-31 23:34:20                2   \n",
              "8759870         1  2018-01-31 23:35:51   2018-01-31 23:38:57                1   \n",
              "8759871         2  2018-01-31 23:28:00   2018-01-31 23:37:09                1   \n",
              "8759872         2  2018-01-31 23:24:40   2018-01-31 23:25:28                1   \n",
              "8759873         2  2018-01-31 23:28:16   2018-01-31 23:28:38                1   \n",
              "\n",
              "         trip_distance  RatecodeID store_and_fwd_flag  PULocationID  \\\n",
              "8750000           1.80           1                  N           162   \n",
              "8750001           1.00           1                  N           234   \n",
              "8750002           0.60           1                  N           234   \n",
              "8750003           9.60           1                  N            77   \n",
              "8750004           9.60           1                  N            77   \n",
              "8750005           0.00           5                  N            77   \n",
              "8750006           4.40           1                  N           231   \n",
              "8750007           2.50           1                  N           161   \n",
              "8750008           3.20           1                  N           230   \n",
              "8750009           4.91           1                  N           236   \n",
              "8750010           7.70           1                  N            87   \n",
              "8750011           2.90           1                  N            13   \n",
              "8750012           3.40           1                  N            87   \n",
              "8750013           7.70           1                  N            88   \n",
              "8750014          14.50           5                  N           138   \n",
              "8750015           0.90           1                  N            79   \n",
              "8750016           6.20           1                  N           249   \n",
              "8750017           0.50           1                  N            74   \n",
              "8750018           1.00           1                  N           114   \n",
              "8750019           4.20           1                  N            79   \n",
              "8750020           3.18           1                  N            48   \n",
              "8750021           5.58           1                  N           229   \n",
              "8750022           0.90           1                  N           229   \n",
              "8750023           5.71           1                  N           164   \n",
              "8750024           3.72           1                  N            49   \n",
              "8750025           2.02           1                  N           162   \n",
              "8750026           1.44           1                  N            45   \n",
              "8750027           3.73           1                  N            79   \n",
              "8750028           2.63           1                  N           144   \n",
              "8750029           1.70           1                  N            48   \n",
              "...                ...         ...                ...           ...   \n",
              "8759844           0.74           1                  N           234   \n",
              "8759845           5.09           1                  N            68   \n",
              "8759846           3.70           1                  N           209   \n",
              "8759847           2.48           1                  N           211   \n",
              "8759848           1.90           1                  N            43   \n",
              "8759849           4.00           1                  N           158   \n",
              "8759850           0.75           1                  N           231   \n",
              "8759851           4.29           1                  N            90   \n",
              "8759852           4.92           1                  N           148   \n",
              "8759853           4.64           1                  N           161   \n",
              "8759854           4.10           1                  N            88   \n",
              "8759855           0.77           1                  N           142   \n",
              "8759856          10.69           1                  N           138   \n",
              "8759857           1.00           1                  N           230   \n",
              "8759858           0.70           1                  N           100   \n",
              "8759859          13.36           1                  N           138   \n",
              "8759860          13.90           1                  N           186   \n",
              "8759861           0.75           1                  N           238   \n",
              "8759862           1.58           1                  N           151   \n",
              "8759863           2.63           1                  N           238   \n",
              "8759864           2.60           1                  N           137   \n",
              "8759865           0.30           1                  N           163   \n",
              "8759866           1.20           1                  N            43   \n",
              "8759867           1.65           1                  N           234   \n",
              "8759868           2.92           1                  N           230   \n",
              "8759869           2.80           1                  N           158   \n",
              "8759870           0.60           1                  N           163   \n",
              "8759871           2.95           1                  N            74   \n",
              "8759872           0.00           1                  N             7   \n",
              "8759873           0.00           1                  N             7   \n",
              "\n",
              "         DOLocationID  payment_type  fare_amount  extra  mta_tax  tip_amount  \\\n",
              "8750000           186             1          8.5    0.5      0.5        1.96   \n",
              "8750001            79             1          5.5    0.5      0.5        2.00   \n",
              "8750002           170             1          4.5    0.5      0.5        1.15   \n",
              "8750003            77             3          2.5    0.5      0.5        0.00   \n",
              "8750004            77             3          2.5    0.5      0.5        0.00   \n",
              "8750005           264             2          0.0    0.0      0.0        0.00   \n",
              "8750006           229             2         18.5    0.5      0.5        0.00   \n",
              "8750007           262             1         10.5    0.5      0.5        1.50   \n",
              "8750008           236             1         12.0    0.5      0.5        2.66   \n",
              "8750009           249             1         17.0    0.5      0.5        3.66   \n",
              "8750010           263             1         23.5    0.5      0.5        4.96   \n",
              "8750011           232             1         11.5    0.5      0.5        2.56   \n",
              "8750012            79             1         13.0    0.5      0.5        2.85   \n",
              "8750013           263             1         22.5    0.5      0.5        4.75   \n",
              "8750014           265             1         92.0    0.0      0.0       15.00   \n",
              "8750015           211             1          6.0    0.5      0.5        1.00   \n",
              "8750016            74             1         22.0    0.5      0.5        1.70   \n",
              "8750017            42             2          5.0    0.5      0.5        0.00   \n",
              "8750018           232             1          6.5    0.5      0.5        1.55   \n",
              "8750019           237             2         14.5    0.5      0.5        0.00   \n",
              "8750020           263             1         11.0    0.5      0.5        3.08   \n",
              "8750021            87             1         17.5    0.5      0.5        4.70   \n",
              "8750022           137             1          4.5    0.5      0.5        0.50   \n",
              "8750023            49             1         22.0    0.5      0.5        5.82   \n",
              "8750024           261             1         14.5    0.5      0.5        1.50   \n",
              "8750025           143             1          9.5    0.5      0.5        1.50   \n",
              "8750026            79             2          7.5    0.5      0.5        0.00   \n",
              "8750027            97             1         14.5    0.5      0.5        3.16   \n",
              "8750028           186             2         10.0    0.5      0.5        0.00   \n",
              "8750029           239             1          7.0    0.5      0.5        2.08   \n",
              "...               ...           ...          ...    ...      ...         ...   \n",
              "8759844           186             2          4.5    0.5      0.5        0.00   \n",
              "8759845           209             1         18.0    0.5      0.5        3.86   \n",
              "8759846           114             1         13.5    0.5      0.5        2.50   \n",
              "8759847           186             1         10.5    0.5      0.5        2.36   \n",
              "8759848           263             1          8.5    0.5      0.5        1.95   \n",
              "8759849            88             1         14.5    0.5      0.5        3.16   \n",
              "8759850           231             2          6.5    0.5      0.5        0.00   \n",
              "8759851           256             1         18.5    0.5      0.5        3.96   \n",
              "8759852           163             2         21.5    0.5      0.5        0.00   \n",
              "8759853           261             2         18.0    0.5      0.5        0.00   \n",
              "8759854            97             1         14.5    0.5      0.5        3.95   \n",
              "8759855           230             2          5.0    0.5      0.5        0.00   \n",
              "8759856           230             1         34.5    0.5      0.5        5.00   \n",
              "8759857            48             1          6.5    0.5      0.5        1.55   \n",
              "8759858           230             1          4.5    0.5      0.5        0.01   \n",
              "8759859            64             1         36.5    0.5      0.5        7.56   \n",
              "8759860            16             1         42.0    0.5      0.5       15.00   \n",
              "8759861           151             2          4.0    0.5      0.5        0.00   \n",
              "8759862            41             2          7.5    0.5      0.5        0.00   \n",
              "8759863            48             2         12.5    0.5      0.5        0.00   \n",
              "8759864           148             2         10.0    0.5      0.5        0.00   \n",
              "8759865           230             2          4.5    0.5      0.5        0.00   \n",
              "8759866           162             1          6.0    0.5      0.5        1.50   \n",
              "8759867           158             1          8.5    0.5      0.5        2.45   \n",
              "8759868           238             2         11.0    0.5      0.5        0.00   \n",
              "8759869           163             1         12.0    0.5      0.5        2.65   \n",
              "8759870           162             1          4.5    0.5      0.5        1.15   \n",
              "8759871            69             2         10.5    0.5      0.5        0.00   \n",
              "8759872           193             2          0.0    0.0      0.0        0.00   \n",
              "8759873           193             2          0.0    0.0      0.0        0.00   \n",
              "\n",
              "         tolls_amount  improvement_surcharge  total_amount  \n",
              "8750000          0.00                    0.3         11.76  \n",
              "8750001          0.00                    0.3          8.80  \n",
              "8750002          0.00                    0.3          6.95  \n",
              "8750003          0.00                    0.3          3.80  \n",
              "8750004          0.00                    0.3          3.80  \n",
              "8750005          0.00                    0.3          0.30  \n",
              "8750006          0.00                    0.3         19.80  \n",
              "8750007          0.00                    0.3         13.30  \n",
              "8750008          0.00                    0.3         15.96  \n",
              "8750009          0.00                    0.3         21.96  \n",
              "8750010          0.00                    0.3         29.76  \n",
              "8750011          0.00                    0.3         15.36  \n",
              "8750012          0.00                    0.3         17.15  \n",
              "8750013          0.00                    0.3         28.55  \n",
              "8750014          5.76                    0.3        113.06  \n",
              "8750015          0.00                    0.3          8.30  \n",
              "8750016          0.00                    0.3         25.00  \n",
              "8750017          0.00                    0.3          6.30  \n",
              "8750018          0.00                    0.3          9.35  \n",
              "8750019          0.00                    0.3         15.80  \n",
              "8750020          0.00                    0.3         15.38  \n",
              "8750021          0.00                    0.3         23.50  \n",
              "8750022          0.00                    0.3          6.30  \n",
              "8750023          0.00                    0.3         29.12  \n",
              "8750024          0.00                    0.3         17.30  \n",
              "8750025          0.00                    0.3         12.30  \n",
              "8750026          0.00                    0.3          8.80  \n",
              "8750027          0.00                    0.3         18.96  \n",
              "8750028          0.00                    0.3         11.30  \n",
              "8750029          0.00                    0.3         10.38  \n",
              "...               ...                    ...           ...  \n",
              "8759844          0.00                    0.3          5.80  \n",
              "8759845          0.00                    0.3         23.16  \n",
              "8759846          0.00                    0.3         17.30  \n",
              "8759847          0.00                    0.3         14.16  \n",
              "8759848          0.00                    0.3         11.75  \n",
              "8759849          0.00                    0.3         18.96  \n",
              "8759850          0.00                    0.3          7.80  \n",
              "8759851          0.00                    0.3         23.76  \n",
              "8759852          0.00                    0.3         22.80  \n",
              "8759853          0.00                    0.3         19.30  \n",
              "8759854          0.00                    0.3         19.75  \n",
              "8759855          0.00                    0.3          6.30  \n",
              "8759856          5.76                    0.3         46.56  \n",
              "8759857          0.00                    0.3          9.35  \n",
              "8759858          0.00                    0.3          5.81  \n",
              "8759859          0.00                    0.3         45.36  \n",
              "8759860          5.76                    0.3         64.06  \n",
              "8759861          0.00                    0.3          5.30  \n",
              "8759862          0.00                    0.3          8.80  \n",
              "8759863          0.00                    0.3         13.80  \n",
              "8759864          0.00                    0.3         11.30  \n",
              "8759865          0.00                    0.3          5.80  \n",
              "8759866          0.00                    0.3          8.80  \n",
              "8759867          0.00                    0.3         12.25  \n",
              "8759868          0.00                    0.3         12.30  \n",
              "8759869          0.00                    0.3         15.95  \n",
              "8759870          0.00                    0.3          6.95  \n",
              "8759871          0.00                    0.3         11.80  \n",
              "8759872          0.00                    0.0          0.00  \n",
              "8759873          0.00                    0.0          0.00  \n",
              "\n",
              "[9874 rows x 17 columns]>"
            ]
          },
          "metadata": {
            "tags": []
          },
          "execution_count": 30
        }
      ]
    },
    {
      "cell_type": "code",
      "metadata": {
        "id": "htf-2POoL8GD",
        "colab_type": "code",
        "colab": {
          "base_uri": "https://localhost:8080/",
          "height": 215
        },
        "outputId": "f99e7442-13d6-4388-9888-71110d851f43"
      },
      "source": [
        "trozo.head()"
      ],
      "execution_count": 31,
      "outputs": [
        {
          "output_type": "execute_result",
          "data": {
            "text/html": [
              "<div>\n",
              "<style scoped>\n",
              "    .dataframe tbody tr th:only-of-type {\n",
              "        vertical-align: middle;\n",
              "    }\n",
              "\n",
              "    .dataframe tbody tr th {\n",
              "        vertical-align: top;\n",
              "    }\n",
              "\n",
              "    .dataframe thead th {\n",
              "        text-align: right;\n",
              "    }\n",
              "</style>\n",
              "<table border=\"1\" class=\"dataframe\">\n",
              "  <thead>\n",
              "    <tr style=\"text-align: right;\">\n",
              "      <th></th>\n",
              "      <th>VendorID</th>\n",
              "      <th>tpep_pickup_datetime</th>\n",
              "      <th>tpep_dropoff_datetime</th>\n",
              "      <th>passenger_count</th>\n",
              "      <th>trip_distance</th>\n",
              "      <th>RatecodeID</th>\n",
              "      <th>store_and_fwd_flag</th>\n",
              "      <th>PULocationID</th>\n",
              "      <th>DOLocationID</th>\n",
              "      <th>payment_type</th>\n",
              "      <th>fare_amount</th>\n",
              "      <th>extra</th>\n",
              "      <th>mta_tax</th>\n",
              "      <th>tip_amount</th>\n",
              "      <th>tolls_amount</th>\n",
              "      <th>improvement_surcharge</th>\n",
              "      <th>total_amount</th>\n",
              "    </tr>\n",
              "  </thead>\n",
              "  <tbody>\n",
              "    <tr>\n",
              "      <th>8750000</th>\n",
              "      <td>2</td>\n",
              "      <td>2018-01-31 23:36:22</td>\n",
              "      <td>2018-01-31 23:46:11</td>\n",
              "      <td>1</td>\n",
              "      <td>1.8</td>\n",
              "      <td>1</td>\n",
              "      <td>N</td>\n",
              "      <td>162</td>\n",
              "      <td>186</td>\n",
              "      <td>1</td>\n",
              "      <td>8.5</td>\n",
              "      <td>0.5</td>\n",
              "      <td>0.5</td>\n",
              "      <td>1.96</td>\n",
              "      <td>0.0</td>\n",
              "      <td>0.3</td>\n",
              "      <td>11.76</td>\n",
              "    </tr>\n",
              "    <tr>\n",
              "      <th>8750001</th>\n",
              "      <td>1</td>\n",
              "      <td>2018-01-31 23:41:34</td>\n",
              "      <td>2018-01-31 23:45:40</td>\n",
              "      <td>2</td>\n",
              "      <td>1.0</td>\n",
              "      <td>1</td>\n",
              "      <td>N</td>\n",
              "      <td>234</td>\n",
              "      <td>79</td>\n",
              "      <td>1</td>\n",
              "      <td>5.5</td>\n",
              "      <td>0.5</td>\n",
              "      <td>0.5</td>\n",
              "      <td>2.00</td>\n",
              "      <td>0.0</td>\n",
              "      <td>0.3</td>\n",
              "      <td>8.80</td>\n",
              "    </tr>\n",
              "    <tr>\n",
              "      <th>8750002</th>\n",
              "      <td>1</td>\n",
              "      <td>2018-01-31 23:26:35</td>\n",
              "      <td>2018-01-31 23:29:48</td>\n",
              "      <td>2</td>\n",
              "      <td>0.6</td>\n",
              "      <td>1</td>\n",
              "      <td>N</td>\n",
              "      <td>234</td>\n",
              "      <td>170</td>\n",
              "      <td>1</td>\n",
              "      <td>4.5</td>\n",
              "      <td>0.5</td>\n",
              "      <td>0.5</td>\n",
              "      <td>1.15</td>\n",
              "      <td>0.0</td>\n",
              "      <td>0.3</td>\n",
              "      <td>6.95</td>\n",
              "    </tr>\n",
              "    <tr>\n",
              "      <th>8750003</th>\n",
              "      <td>1</td>\n",
              "      <td>2018-01-31 23:15:56</td>\n",
              "      <td>2018-01-31 23:16:09</td>\n",
              "      <td>1</td>\n",
              "      <td>9.6</td>\n",
              "      <td>1</td>\n",
              "      <td>N</td>\n",
              "      <td>77</td>\n",
              "      <td>77</td>\n",
              "      <td>3</td>\n",
              "      <td>2.5</td>\n",
              "      <td>0.5</td>\n",
              "      <td>0.5</td>\n",
              "      <td>0.00</td>\n",
              "      <td>0.0</td>\n",
              "      <td>0.3</td>\n",
              "      <td>3.80</td>\n",
              "    </tr>\n",
              "    <tr>\n",
              "      <th>8750004</th>\n",
              "      <td>1</td>\n",
              "      <td>2018-01-31 23:17:26</td>\n",
              "      <td>2018-01-31 23:17:42</td>\n",
              "      <td>1</td>\n",
              "      <td>9.6</td>\n",
              "      <td>1</td>\n",
              "      <td>N</td>\n",
              "      <td>77</td>\n",
              "      <td>77</td>\n",
              "      <td>3</td>\n",
              "      <td>2.5</td>\n",
              "      <td>0.5</td>\n",
              "      <td>0.5</td>\n",
              "      <td>0.00</td>\n",
              "      <td>0.0</td>\n",
              "      <td>0.3</td>\n",
              "      <td>3.80</td>\n",
              "    </tr>\n",
              "  </tbody>\n",
              "</table>\n",
              "</div>"
            ],
            "text/plain": [
              "         VendorID tpep_pickup_datetime tpep_dropoff_datetime  passenger_count  \\\n",
              "8750000         2  2018-01-31 23:36:22   2018-01-31 23:46:11                1   \n",
              "8750001         1  2018-01-31 23:41:34   2018-01-31 23:45:40                2   \n",
              "8750002         1  2018-01-31 23:26:35   2018-01-31 23:29:48                2   \n",
              "8750003         1  2018-01-31 23:15:56   2018-01-31 23:16:09                1   \n",
              "8750004         1  2018-01-31 23:17:26   2018-01-31 23:17:42                1   \n",
              "\n",
              "         trip_distance  RatecodeID store_and_fwd_flag  PULocationID  \\\n",
              "8750000            1.8           1                  N           162   \n",
              "8750001            1.0           1                  N           234   \n",
              "8750002            0.6           1                  N           234   \n",
              "8750003            9.6           1                  N            77   \n",
              "8750004            9.6           1                  N            77   \n",
              "\n",
              "         DOLocationID  payment_type  fare_amount  extra  mta_tax  tip_amount  \\\n",
              "8750000           186             1          8.5    0.5      0.5        1.96   \n",
              "8750001            79             1          5.5    0.5      0.5        2.00   \n",
              "8750002           170             1          4.5    0.5      0.5        1.15   \n",
              "8750003            77             3          2.5    0.5      0.5        0.00   \n",
              "8750004            77             3          2.5    0.5      0.5        0.00   \n",
              "\n",
              "         tolls_amount  improvement_surcharge  total_amount  \n",
              "8750000           0.0                    0.3         11.76  \n",
              "8750001           0.0                    0.3          8.80  \n",
              "8750002           0.0                    0.3          6.95  \n",
              "8750003           0.0                    0.3          3.80  \n",
              "8750004           0.0                    0.3          3.80  "
            ]
          },
          "metadata": {
            "tags": []
          },
          "execution_count": 31
        }
      ]
    },
    {
      "cell_type": "markdown",
      "metadata": {
        "id": "kO1faaMNOE8N",
        "colab_type": "text"
      },
      "source": [
        "##TAREA HACER UN FILTRADO DE LO QUE VAMOS A HACER A CONTINUACIÓN CON LOS DATOS TOTALES"
      ]
    },
    {
      "cell_type": "markdown",
      "metadata": {
        "id": "Tr5m5mkrOZFw",
        "colab_type": "text"
      },
      "source": [
        "Defiinimos una condiccion de `es_un_viaje_largo` si el valor en la columna de `trip_distance`es mayor a 10(milla,approx 16km)"
      ]
    },
    {
      "cell_type": "code",
      "metadata": {
        "id": "tXkDGoBYMiq3",
        "colab_type": "code",
        "colab": {
          "base_uri": "https://localhost:8080/",
          "height": 118
        },
        "outputId": "8b4a9896-c239-4f3f-f4cb-a98adde54762"
      },
      "source": [
        "es_un_viaje_largo = (trozo.trip_distance > 10)\n",
        "es_un_viaje_largo.head()"
      ],
      "execution_count": 32,
      "outputs": [
        {
          "output_type": "execute_result",
          "data": {
            "text/plain": [
              "8750000    False\n",
              "8750001    False\n",
              "8750002    False\n",
              "8750003    False\n",
              "8750004    False\n",
              "Name: trip_distance, dtype: bool"
            ]
          },
          "metadata": {
            "tags": []
          },
          "execution_count": 32
        }
      ]
    },
    {
      "cell_type": "code",
      "metadata": {
        "id": "yzyHSx-qPGio",
        "colab_type": "code",
        "colab": {
          "base_uri": "https://localhost:8080/",
          "height": 34
        },
        "outputId": "5545a974-5756-4138-9b47-281bcd7db801"
      },
      "source": [
        "trozo.loc[es_un_viaje_largo].shape"
      ],
      "execution_count": 35,
      "outputs": [
        {
          "output_type": "execute_result",
          "data": {
            "text/plain": [
              "(431, 17)"
            ]
          },
          "metadata": {
            "tags": []
          },
          "execution_count": 35
        }
      ]
    },
    {
      "cell_type": "markdown",
      "metadata": {
        "id": "OiVlUEITPr97",
        "colab_type": "text"
      },
      "source": [
        "Encapsular la operación de filtrado realizada anteriormente en una función "
      ]
    },
    {
      "cell_type": "code",
      "metadata": {
        "id": "_GTGgvwVPWdt",
        "colab_type": "code",
        "colab": {}
      },
      "source": [
        "def filtra_es_un_viaje_largo(data):\n",
        "  es_un_viaje_largo =(data.trip_distance > 10)\n",
        "  return data.loc[es_un_viaje_largo]"
      ],
      "execution_count": 0,
      "outputs": []
    },
    {
      "cell_type": "code",
      "metadata": {
        "id": "0N_1KqgfQCY6",
        "colab_type": "code",
        "colab": {}
      },
      "source": [
        "trozosFiltrados = []\n",
        "for trozo in pd.read_csv(archivo, chunksize = 500000):\n",
        "  trozosFiltrados.append(filtra_es_un_viaje_largo(trozo))"
      ],
      "execution_count": 0,
      "outputs": []
    },
    {
      "cell_type": "code",
      "metadata": {
        "id": "WqwSBR3nQprW",
        "colab_type": "code",
        "colab": {
          "base_uri": "https://localhost:8080/",
          "height": 34
        },
        "outputId": "09c05772-4726-4520-fca4-a3568d653484"
      },
      "source": [
        "len(trozosFiltrados)"
      ],
      "execution_count": 39,
      "outputs": [
        {
          "output_type": "execute_result",
          "data": {
            "text/plain": [
              "18"
            ]
          },
          "metadata": {
            "tags": []
          },
          "execution_count": 39
        }
      ]
    },
    {
      "cell_type": "markdown",
      "metadata": {
        "id": "HzQiU5qKRddV",
        "colab_type": "text"
      },
      "source": [
        "Es conveniente utilizar una *comprension de lista* para generar la lista anterior"
      ]
    },
    {
      "cell_type": "code",
      "metadata": {
        "id": "HV80w6N8RYfW",
        "colab_type": "code",
        "colab": {
          "base_uri": "https://localhost:8080/",
          "height": 34
        },
        "outputId": "8027005c-06e0-4412-faf2-29ab2fb8ebca"
      },
      "source": [
        "trozos =[filtra_es_un_viaje_largo(trozo) for trozo in pd.read_csv(archivo, chunksize=500000)]\n",
        "len(trozos)"
      ],
      "execution_count": 41,
      "outputs": [
        {
          "output_type": "execute_result",
          "data": {
            "text/plain": [
              "18"
            ]
          },
          "metadata": {
            "tags": []
          },
          "execution_count": 41
        }
      ]
    },
    {
      "cell_type": "code",
      "metadata": {
        "id": "HUjzWtVoR7Il",
        "colab_type": "code",
        "colab": {
          "base_uri": "https://localhost:8080/",
          "height": 319
        },
        "outputId": "c74a5b50-46e1-4e89-8841-581bba2f6915"
      },
      "source": [
        "tamanos = [len(trozo) for trozo in trozos]\n",
        "tamanos"
      ],
      "execution_count": 42,
      "outputs": [
        {
          "output_type": "execute_result",
          "data": {
            "text/plain": [
              "[36840,\n",
              " 24360,\n",
              " 27249,\n",
              " 32064,\n",
              " 26497,\n",
              " 27405,\n",
              " 23502,\n",
              " 30812,\n",
              " 25838,\n",
              " 24353,\n",
              " 22569,\n",
              " 30044,\n",
              " 24992,\n",
              " 24950,\n",
              " 22277,\n",
              " 27423,\n",
              " 23822,\n",
              " 11817]"
            ]
          },
          "metadata": {
            "tags": []
          },
          "execution_count": 42
        }
      ]
    },
    {
      "cell_type": "code",
      "metadata": {
        "id": "rmuGt6iLSLWK",
        "colab_type": "code",
        "colab": {
          "base_uri": "https://localhost:8080/",
          "height": 34
        },
        "outputId": "02aad55d-fb88-43bb-9c0e-d9f7fc2bf5dd"
      },
      "source": [
        "np.mean(tamanos)"
      ],
      "execution_count": 43,
      "outputs": [
        {
          "output_type": "execute_result",
          "data": {
            "text/plain": [
              "25934.11111111111"
            ]
          },
          "metadata": {
            "tags": []
          },
          "execution_count": 43
        }
      ]
    },
    {
      "cell_type": "markdown",
      "metadata": {
        "id": "0EDrGbU2Sfou",
        "colab_type": "text"
      },
      "source": [
        "vamos a concatenar todos estos trozos en una nueva estructura de datos `DataFrame`, \n",
        "\n",
        "Dicha estructura debera tener un tamaño de?\n",
        "\n"
      ]
    },
    {
      "cell_type": "code",
      "metadata": {
        "id": "eEErHtW3SPo6",
        "colab_type": "code",
        "colab": {
          "base_uri": "https://localhost:8080/",
          "height": 34
        },
        "outputId": "2e5c588a-8bb0-455e-a57f-2ebc96fc4889"
      },
      "source": [
        "sum(tamanos)"
      ],
      "execution_count": 44,
      "outputs": [
        {
          "output_type": "execute_result",
          "data": {
            "text/plain": [
              "466814"
            ]
          },
          "metadata": {
            "tags": []
          },
          "execution_count": 44
        }
      ]
    },
    {
      "cell_type": "code",
      "metadata": {
        "id": "kLC3spi1S29x",
        "colab_type": "code",
        "colab": {
          "base_uri": "https://localhost:8080/",
          "height": 34
        },
        "outputId": "7ba6484d-8454-44a5-87bb-b617110b66cd"
      },
      "source": [
        "viajes_largos_df = pd.concat(trozos)\n",
        "viajes_largos_df.shape"
      ],
      "execution_count": 46,
      "outputs": [
        {
          "output_type": "execute_result",
          "data": {
            "text/plain": [
              "(466814, 17)"
            ]
          },
          "metadata": {
            "tags": []
          },
          "execution_count": 46
        }
      ]
    },
    {
      "cell_type": "markdown",
      "metadata": {
        "id": "UhvpdVIQTlB2",
        "colab_type": "text"
      },
      "source": [
        "Ahora vamos a visualizar parte  de los datos filtrados"
      ]
    },
    {
      "cell_type": "code",
      "metadata": {
        "id": "akcNyadrTBGS",
        "colab_type": "code",
        "colab": {}
      },
      "source": [
        "import matplotlib.pyplot as plt"
      ],
      "execution_count": 0,
      "outputs": []
    },
    {
      "cell_type": "code",
      "metadata": {
        "id": "dYE4DAwyTxw6",
        "colab_type": "code",
        "colab": {
          "base_uri": "https://localhost:8080/",
          "height": 313
        },
        "outputId": "986bab20-cda8-4364-dd3a-c90b50814028"
      },
      "source": [
        "viajes_largos_df.plot.scatter(x='trip_distance', y='fare_amount', title='Viajes largos > 10mi')"
      ],
      "execution_count": 49,
      "outputs": [
        {
          "output_type": "execute_result",
          "data": {
            "text/plain": [
              "<matplotlib.axes._subplots.AxesSubplot at 0x7f35ff7389e8>"
            ]
          },
          "metadata": {
            "tags": []
          },
          "execution_count": 49
        },
        {
          "output_type": "display_data",
          "data": {
            "image/png": "[encoded data removed]",
            "text/plain": [
              "<Figure size 432x288 with 1 Axes>"
            ]
          },
          "metadata": {
            "tags": []
          }
        }
      ]
    },
    {
      "cell_type": "markdown",
      "metadata": {
        "id": "U50S67a2UpNR",
        "colab_type": "text"
      },
      "source": [
        ""
      ]
    },
    {
      "cell_type": "code",
      "metadata": {
        "id": "OorxS18eUVRt",
        "colab_type": "code",
        "colab": {
          "base_uri": "https://localhost:8080/",
          "height": 296
        },
        "outputId": "0ceade6b-379b-4375-8630-bf55bcd4c612"
      },
      "source": [
        "viajes_largos_df.plot.scatter(x='trip_distance', y='fare_amount', title='Viajes largos > 10mi', xlim=(0,200), ylim=(0,600));"
      ],
      "execution_count": 53,
      "outputs": [
        {
          "output_type": "display_data",
          "data": {
            "image/png": "[encoded data removed]",
            "text/plain": [
              "<Figure size 432x288 with 1 Axes>"
            ]
          },
          "metadata": {
            "tags": []
          }
        }
      ]
    },
    {
      "cell_type": "markdown",
      "metadata": {
        "id": "UfzGqbgnXhHG",
        "colab_type": "text"
      },
      "source": [
        "##TAREA REALIZAR LAS MISMAS OPERACIONES QUE VAMOS HACERLO CON LOS DEMAS DATOS\n"
      ]
    },
    {
      "cell_type": "code",
      "metadata": {
        "id": "SVuT49aVVIjJ",
        "colab_type": "code",
        "colab": {
          "base_uri": "https://localhost:8080/",
          "height": 34
        },
        "outputId": "eb150590-3972-4ab9-f915-96e513d8c731"
      },
      "source": [
        "trozos =(filtra_es_un_viaje_largo(trozo) for trozo in pd.read_csv(archivo, chunksize=500000))\n",
        "trozos"
      ],
      "execution_count": 55,
      "outputs": [
        {
          "output_type": "execute_result",
          "data": {
            "text/plain": [
              "<generator object <genexpr> at 0x7f3604afee60>"
            ]
          },
          "metadata": {
            "tags": []
          },
          "execution_count": 55
        }
      ]
    },
    {
      "cell_type": "markdown",
      "metadata": {
        "id": "Lm8kE9eaYeHE",
        "colab_type": "text"
      },
      "source": [
        ""
      ]
    },
    {
      "cell_type": "markdown",
      "metadata": {
        "id": "UahZOAubYSYY",
        "colab_type": "text"
      },
      "source": [
        "##TAREA CUAL ES LA HUELLA DE MEMORIA DEL GENERADOR ANTERIOR?\n",
        "MEDIR HUELLA DE MEMORIA ANTES \n",
        "GENERO TROZOS \n",
        "VUELVO A MEDISO HUELLA DE MEMORIA"
      ]
    },
    {
      "cell_type": "code",
      "metadata": {
        "id": "SRGGtqJ6YCv8",
        "colab_type": "code",
        "colab": {}
      },
      "source": [
        "distancias = (trozo['trip_distance'].sum() for trozo in trozos)"
      ],
      "execution_count": 0,
      "outputs": []
    },
    {
      "cell_type": "code",
      "metadata": {
        "id": "W_qyAA5RZBdw",
        "colab_type": "code",
        "colab": {
          "base_uri": "https://localhost:8080/",
          "height": 34
        },
        "outputId": "255351f8-43a0-4046-8813-c492a7eb8b8c"
      },
      "source": [
        "sum(distancias)"
      ],
      "execution_count": 57,
      "outputs": [
        {
          "output_type": "execute_result",
          "data": {
            "text/plain": [
              "7339629.629999999"
            ]
          },
          "metadata": {
            "tags": []
          },
          "execution_count": 57
        }
      ]
    },
    {
      "cell_type": "markdown",
      "metadata": {
        "id": "Z3QJ9v2RbDza",
        "colab_type": "text"
      },
      "source": [
        "vamos a leer muchos archivos"
      ]
    },
    {
      "cell_type": "code",
      "metadata": {
        "id": "JMxpU-diZmwg",
        "colab_type": "code",
        "colab": {}
      },
      "source": [
        "df = pd.read_csv('yellow_tripdata_2018-01.csv', parse_dates =[1,2])"
      ],
      "execution_count": 0,
      "outputs": []
    },
    {
      "cell_type": "code",
      "metadata": {
        "id": "Y9bFHg77bbe7",
        "colab_type": "code",
        "colab": {
          "base_uri": "https://localhost:8080/",
          "height": 386
        },
        "outputId": "1cf23c0e-e2f2-4d8f-b46f-332aef2ec7a7"
      },
      "source": [
        "df.info()"
      ],
      "execution_count": 59,
      "outputs": [
        {
          "output_type": "stream",
          "text": [
            "<class 'pandas.core.frame.DataFrame'>\n",
            "RangeIndex: 8759874 entries, 0 to 8759873\n",
            "Data columns (total 17 columns):\n",
            "VendorID                 int64\n",
            "tpep_pickup_datetime     datetime64[ns]\n",
            "tpep_dropoff_datetime    datetime64[ns]\n",
            "passenger_count          int64\n",
            "trip_distance            float64\n",
            "RatecodeID               int64\n",
            "store_and_fwd_flag       object\n",
            "PULocationID             int64\n",
            "DOLocationID             int64\n",
            "payment_type             int64\n",
            "fare_amount              float64\n",
            "extra                    float64\n",
            "mta_tax                  float64\n",
            "tip_amount               float64\n",
            "tolls_amount             float64\n",
            "improvement_surcharge    float64\n",
            "total_amount             float64\n",
            "dtypes: datetime64[ns](2), float64(8), int64(6), object(1)\n",
            "memory usage: 1.1+ GB\n"
          ],
          "name": "stdout"
        }
      ]
    },
    {
      "cell_type": "code",
      "metadata": {
        "id": "zF30oMhEbeEL",
        "colab_type": "code",
        "colab": {
          "base_uri": "https://localhost:8080/",
          "height": 215
        },
        "outputId": "a40f343a-f57d-4fc9-ea4a-71a2a5777ea1"
      },
      "source": [
        "df.head()"
      ],
      "execution_count": 60,
      "outputs": [
        {
          "output_type": "execute_result",
          "data": {
            "text/html": [
              "<div>\n",
              "<style scoped>\n",
              "    .dataframe tbody tr th:only-of-type {\n",
              "        vertical-align: middle;\n",
              "    }\n",
              "\n",
              "    .dataframe tbody tr th {\n",
              "        vertical-align: top;\n",
              "    }\n",
              "\n",
              "    .dataframe thead th {\n",
              "        text-align: right;\n",
              "    }\n",
              "</style>\n",
              "<table border=\"1\" class=\"dataframe\">\n",
              "  <thead>\n",
              "    <tr style=\"text-align: right;\">\n",
              "      <th></th>\n",
              "      <th>VendorID</th>\n",
              "      <th>tpep_pickup_datetime</th>\n",
              "      <th>tpep_dropoff_datetime</th>\n",
              "      <th>passenger_count</th>\n",
              "      <th>trip_distance</th>\n",
              "      <th>RatecodeID</th>\n",
              "      <th>store_and_fwd_flag</th>\n",
              "      <th>PULocationID</th>\n",
              "      <th>DOLocationID</th>\n",
              "      <th>payment_type</th>\n",
              "      <th>fare_amount</th>\n",
              "      <th>extra</th>\n",
              "      <th>mta_tax</th>\n",
              "      <th>tip_amount</th>\n",
              "      <th>tolls_amount</th>\n",
              "      <th>improvement_surcharge</th>\n",
              "      <th>total_amount</th>\n",
              "    </tr>\n",
              "  </thead>\n",
              "  <tbody>\n",
              "    <tr>\n",
              "      <th>0</th>\n",
              "      <td>1</td>\n",
              "      <td>2018-01-01 00:21:05</td>\n",
              "      <td>2018-01-01 00:24:23</td>\n",
              "      <td>1</td>\n",
              "      <td>0.5</td>\n",
              "      <td>1</td>\n",
              "      <td>N</td>\n",
              "      <td>41</td>\n",
              "      <td>24</td>\n",
              "      <td>2</td>\n",
              "      <td>4.5</td>\n",
              "      <td>0.5</td>\n",
              "      <td>0.5</td>\n",
              "      <td>0.00</td>\n",
              "      <td>0.0</td>\n",
              "      <td>0.3</td>\n",
              "      <td>5.80</td>\n",
              "    </tr>\n",
              "    <tr>\n",
              "      <th>1</th>\n",
              "      <td>1</td>\n",
              "      <td>2018-01-01 00:44:55</td>\n",
              "      <td>2018-01-01 01:03:05</td>\n",
              "      <td>1</td>\n",
              "      <td>2.7</td>\n",
              "      <td>1</td>\n",
              "      <td>N</td>\n",
              "      <td>239</td>\n",
              "      <td>140</td>\n",
              "      <td>2</td>\n",
              "      <td>14.0</td>\n",
              "      <td>0.5</td>\n",
              "      <td>0.5</td>\n",
              "      <td>0.00</td>\n",
              "      <td>0.0</td>\n",
              "      <td>0.3</td>\n",
              "      <td>15.30</td>\n",
              "    </tr>\n",
              "    <tr>\n",
              "      <th>2</th>\n",
              "      <td>1</td>\n",
              "      <td>2018-01-01 00:08:26</td>\n",
              "      <td>2018-01-01 00:14:21</td>\n",
              "      <td>2</td>\n",
              "      <td>0.8</td>\n",
              "      <td>1</td>\n",
              "      <td>N</td>\n",
              "      <td>262</td>\n",
              "      <td>141</td>\n",
              "      <td>1</td>\n",
              "      <td>6.0</td>\n",
              "      <td>0.5</td>\n",
              "      <td>0.5</td>\n",
              "      <td>1.00</td>\n",
              "      <td>0.0</td>\n",
              "      <td>0.3</td>\n",
              "      <td>8.30</td>\n",
              "    </tr>\n",
              "    <tr>\n",
              "      <th>3</th>\n",
              "      <td>1</td>\n",
              "      <td>2018-01-01 00:20:22</td>\n",
              "      <td>2018-01-01 00:52:51</td>\n",
              "      <td>1</td>\n",
              "      <td>10.2</td>\n",
              "      <td>1</td>\n",
              "      <td>N</td>\n",
              "      <td>140</td>\n",
              "      <td>257</td>\n",
              "      <td>2</td>\n",
              "      <td>33.5</td>\n",
              "      <td>0.5</td>\n",
              "      <td>0.5</td>\n",
              "      <td>0.00</td>\n",
              "      <td>0.0</td>\n",
              "      <td>0.3</td>\n",
              "      <td>34.80</td>\n",
              "    </tr>\n",
              "    <tr>\n",
              "      <th>4</th>\n",
              "      <td>1</td>\n",
              "      <td>2018-01-01 00:09:18</td>\n",
              "      <td>2018-01-01 00:27:06</td>\n",
              "      <td>2</td>\n",
              "      <td>2.5</td>\n",
              "      <td>1</td>\n",
              "      <td>N</td>\n",
              "      <td>246</td>\n",
              "      <td>239</td>\n",
              "      <td>1</td>\n",
              "      <td>12.5</td>\n",
              "      <td>0.5</td>\n",
              "      <td>0.5</td>\n",
              "      <td>2.75</td>\n",
              "      <td>0.0</td>\n",
              "      <td>0.3</td>\n",
              "      <td>16.55</td>\n",
              "    </tr>\n",
              "  </tbody>\n",
              "</table>\n",
              "</div>"
            ],
            "text/plain": [
              "   VendorID tpep_pickup_datetime tpep_dropoff_datetime  passenger_count  \\\n",
              "0         1  2018-01-01 00:21:05   2018-01-01 00:24:23                1   \n",
              "1         1  2018-01-01 00:44:55   2018-01-01 01:03:05                1   \n",
              "2         1  2018-01-01 00:08:26   2018-01-01 00:14:21                2   \n",
              "3         1  2018-01-01 00:20:22   2018-01-01 00:52:51                1   \n",
              "4         1  2018-01-01 00:09:18   2018-01-01 00:27:06                2   \n",
              "\n",
              "   trip_distance  RatecodeID store_and_fwd_flag  PULocationID  DOLocationID  \\\n",
              "0            0.5           1                  N            41            24   \n",
              "1            2.7           1                  N           239           140   \n",
              "2            0.8           1                  N           262           141   \n",
              "3           10.2           1                  N           140           257   \n",
              "4            2.5           1                  N           246           239   \n",
              "\n",
              "   payment_type  fare_amount  extra  mta_tax  tip_amount  tolls_amount  \\\n",
              "0             2          4.5    0.5      0.5        0.00           0.0   \n",
              "1             2         14.0    0.5      0.5        0.00           0.0   \n",
              "2             1          6.0    0.5      0.5        1.00           0.0   \n",
              "3             2         33.5    0.5      0.5        0.00           0.0   \n",
              "4             1         12.5    0.5      0.5        2.75           0.0   \n",
              "\n",
              "   improvement_surcharge  total_amount  \n",
              "0                    0.3          5.80  \n",
              "1                    0.3         15.30  \n",
              "2                    0.3          8.30  \n",
              "3                    0.3         34.80  \n",
              "4                    0.3         16.55  "
            ]
          },
          "metadata": {
            "tags": []
          },
          "execution_count": 60
        }
      ]
    },
    {
      "cell_type": "code",
      "metadata": {
        "id": "V_fDNk8RbgQF",
        "colab_type": "code",
        "colab": {}
      },
      "source": [
        "def cuenta_viajes_tardados(df):\n",
        "  df['duracion'] = (df.tpep_dropoff_datetime - df.tpep_pickup_datetime).dt.seconds\n",
        "  es_viaje_tardado = df.duracion > 1200 \n",
        "  result_dict ={'n_long': [sum(es_viaje_tardado)],\n",
        "                'n_total': [len(df)]}\n",
        "  return pd.DataFrame(result_dict)"
      ],
      "execution_count": 0,
      "outputs": []
    },
    {
      "cell_type": "code",
      "metadata": {
        "id": "7pk4a4Dec54n",
        "colab_type": "code",
        "colab": {}
      },
      "source": [
        "archivos = [plantilla.format(y) for y in range(1,4)]"
      ],
      "execution_count": 0,
      "outputs": []
    },
    {
      "cell_type": "code",
      "metadata": {
        "id": "ybmX9cKsdXvT",
        "colab_type": "code",
        "colab": {}
      },
      "source": [
        "dataframes= (pd.read_csv(archivo, parse_dates=[1,2]) for archivo in archivos)"
      ],
      "execution_count": 0,
      "outputs": []
    },
    {
      "cell_type": "code",
      "metadata": {
        "id": "O8Be3m0Xdx4P",
        "colab_type": "code",
        "colab": {}
      },
      "source": [
        "totales = (cuenta_viajes_tardados(df) for df in dataframes)"
      ],
      "execution_count": 0,
      "outputs": []
    },
    {
      "cell_type": "code",
      "metadata": {
        "id": "3sSm619feBHW",
        "colab_type": "code",
        "colab": {
          "base_uri": "https://localhost:8080/",
          "height": 370
        },
        "outputId": "50ecac48-2971-4600-f834-8798c1d4a970"
      },
      "source": [
        "totales_trimestrales = sum(totales)"
      ],
      "execution_count": 76,
      "outputs": [
        {
          "output_type": "error",
          "ename": "FileNotFoundError",
          "evalue": "ignored",
          "traceback": [
            "\u001b[0;31m---------------------------------------------------------------------------\u001b[0m",
            "\u001b[0;31mFileNotFoundError\u001b[0m                         Traceback (most recent call last)",
            "\u001b[0;32m<ipython-input-76-e5e910693094>\u001b[0m in \u001b[0;36m<module>\u001b[0;34m()\u001b[0m\n\u001b[0;32m----> 1\u001b[0;31m \u001b[0mtotales_trimestrales\u001b[0m \u001b[0;34m=\u001b[0m \u001b[0msum\u001b[0m\u001b[0;34m(\u001b[0m\u001b[0mtotales\u001b[0m\u001b[0;34m)\u001b[0m\u001b[0;34m\u001b[0m\u001b[0;34m\u001b[0m\u001b[0m\n\u001b[0m",
            "\u001b[0;32m<ipython-input-75-74b1e9ee6752>\u001b[0m in \u001b[0;36m<genexpr>\u001b[0;34m(.0)\u001b[0m\n\u001b[0;32m----> 1\u001b[0;31m \u001b[0mtotales\u001b[0m \u001b[0;34m=\u001b[0m \u001b[0;34m(\u001b[0m\u001b[0mcuenta_viajes_tardados\u001b[0m\u001b[0;34m(\u001b[0m\u001b[0mdf\u001b[0m\u001b[0;34m)\u001b[0m \u001b[0;32mfor\u001b[0m \u001b[0mdf\u001b[0m \u001b[0;32min\u001b[0m \u001b[0mdataframes\u001b[0m\u001b[0;34m)\u001b[0m\u001b[0;34m\u001b[0m\u001b[0;34m\u001b[0m\u001b[0m\n\u001b[0m",
            "\u001b[0;32m<ipython-input-74-a458c3baa666>\u001b[0m in \u001b[0;36m<genexpr>\u001b[0;34m(.0)\u001b[0m\n\u001b[0;32m----> 1\u001b[0;31m \u001b[0mdataframes\u001b[0m\u001b[0;34m=\u001b[0m \u001b[0;34m(\u001b[0m\u001b[0mpd\u001b[0m\u001b[0;34m.\u001b[0m\u001b[0mread_csv\u001b[0m\u001b[0;34m(\u001b[0m\u001b[0marchivo\u001b[0m\u001b[0;34m,\u001b[0m \u001b[0mparse_dates\u001b[0m\u001b[0;34m=\u001b[0m\u001b[0;34m[\u001b[0m\u001b[0;36m1\u001b[0m\u001b[0;34m,\u001b[0m\u001b[0;36m2\u001b[0m\u001b[0;34m]\u001b[0m\u001b[0;34m)\u001b[0m \u001b[0;32mfor\u001b[0m \u001b[0marchivo\u001b[0m \u001b[0;32min\u001b[0m \u001b[0marchivos\u001b[0m\u001b[0;34m)\u001b[0m\u001b[0;34m\u001b[0m\u001b[0;34m\u001b[0m\u001b[0m\n\u001b[0m",
            "\u001b[0;32m/usr/local/lib/python3.6/dist-packages/pandas/io/parsers.py\u001b[0m in \u001b[0;36mparser_f\u001b[0;34m(filepath_or_buffer, sep, delimiter, header, names, index_col, usecols, squeeze, prefix, mangle_dupe_cols, dtype, engine, converters, true_values, false_values, skipinitialspace, skiprows, skipfooter, nrows, na_values, keep_default_na, na_filter, verbose, skip_blank_lines, parse_dates, infer_datetime_format, keep_date_col, date_parser, dayfirst, iterator, chunksize, compression, thousands, decimal, lineterminator, quotechar, quoting, doublequote, escapechar, comment, encoding, dialect, tupleize_cols, error_bad_lines, warn_bad_lines, delim_whitespace, low_memory, memory_map, float_precision)\u001b[0m\n\u001b[1;32m    700\u001b[0m                     skip_blank_lines=skip_blank_lines)\n\u001b[1;32m    701\u001b[0m \u001b[0;34m\u001b[0m\u001b[0m\n\u001b[0;32m--> 702\u001b[0;31m         \u001b[0;32mreturn\u001b[0m \u001b[0m_read\u001b[0m\u001b[0;34m(\u001b[0m\u001b[0mfilepath_or_buffer\u001b[0m\u001b[0;34m,\u001b[0m \u001b[0mkwds\u001b[0m\u001b[0;34m)\u001b[0m\u001b[0;34m\u001b[0m\u001b[0;34m\u001b[0m\u001b[0m\n\u001b[0m\u001b[1;32m    703\u001b[0m \u001b[0;34m\u001b[0m\u001b[0m\n\u001b[1;32m    704\u001b[0m     \u001b[0mparser_f\u001b[0m\u001b[0;34m.\u001b[0m\u001b[0m__name__\u001b[0m \u001b[0;34m=\u001b[0m \u001b[0mname\u001b[0m\u001b[0;34m\u001b[0m\u001b[0;34m\u001b[0m\u001b[0m\n",
            "\u001b[0;32m/usr/local/lib/python3.6/dist-packages/pandas/io/parsers.py\u001b[0m in \u001b[0;36m_read\u001b[0;34m(filepath_or_buffer, kwds)\u001b[0m\n\u001b[1;32m    427\u001b[0m \u001b[0;34m\u001b[0m\u001b[0m\n\u001b[1;32m    428\u001b[0m     \u001b[0;31m# Create the parser.\u001b[0m\u001b[0;34m\u001b[0m\u001b[0;34m\u001b[0m\u001b[0;34m\u001b[0m\u001b[0m\n\u001b[0;32m--> 429\u001b[0;31m     \u001b[0mparser\u001b[0m \u001b[0;34m=\u001b[0m \u001b[0mTextFileReader\u001b[0m\u001b[0;34m(\u001b[0m\u001b[0mfilepath_or_buffer\u001b[0m\u001b[0;34m,\u001b[0m \u001b[0;34m**\u001b[0m\u001b[0mkwds\u001b[0m\u001b[0;34m)\u001b[0m\u001b[0;34m\u001b[0m\u001b[0;34m\u001b[0m\u001b[0m\n\u001b[0m\u001b[1;32m    430\u001b[0m \u001b[0;34m\u001b[0m\u001b[0m\n\u001b[1;32m    431\u001b[0m     \u001b[0;32mif\u001b[0m \u001b[0mchunksize\u001b[0m \u001b[0;32mor\u001b[0m \u001b[0miterator\u001b[0m\u001b[0;34m:\u001b[0m\u001b[0;34m\u001b[0m\u001b[0;34m\u001b[0m\u001b[0m\n",
            "\u001b[0;32m/usr/local/lib/python3.6/dist-packages/pandas/io/parsers.py\u001b[0m in \u001b[0;36m__init__\u001b[0;34m(self, f, engine, **kwds)\u001b[0m\n\u001b[1;32m    893\u001b[0m             \u001b[0mself\u001b[0m\u001b[0;34m.\u001b[0m\u001b[0moptions\u001b[0m\u001b[0;34m[\u001b[0m\u001b[0;34m'has_index_names'\u001b[0m\u001b[0;34m]\u001b[0m \u001b[0;34m=\u001b[0m \u001b[0mkwds\u001b[0m\u001b[0;34m[\u001b[0m\u001b[0;34m'has_index_names'\u001b[0m\u001b[0;34m]\u001b[0m\u001b[0;34m\u001b[0m\u001b[0;34m\u001b[0m\u001b[0m\n\u001b[1;32m    894\u001b[0m \u001b[0;34m\u001b[0m\u001b[0m\n\u001b[0;32m--> 895\u001b[0;31m         \u001b[0mself\u001b[0m\u001b[0;34m.\u001b[0m\u001b[0m_make_engine\u001b[0m\u001b[0;34m(\u001b[0m\u001b[0mself\u001b[0m\u001b[0;34m.\u001b[0m\u001b[0mengine\u001b[0m\u001b[0;34m)\u001b[0m\u001b[0;34m\u001b[0m\u001b[0;34m\u001b[0m\u001b[0m\n\u001b[0m\u001b[1;32m    896\u001b[0m \u001b[0;34m\u001b[0m\u001b[0m\n\u001b[1;32m    897\u001b[0m     \u001b[0;32mdef\u001b[0m \u001b[0mclose\u001b[0m\u001b[0;34m(\u001b[0m\u001b[0mself\u001b[0m\u001b[0;34m)\u001b[0m\u001b[0;34m:\u001b[0m\u001b[0;34m\u001b[0m\u001b[0;34m\u001b[0m\u001b[0m\n",
            "\u001b[0;32m/usr/local/lib/python3.6/dist-packages/pandas/io/parsers.py\u001b[0m in \u001b[0;36m_make_engine\u001b[0;34m(self, engine)\u001b[0m\n\u001b[1;32m   1120\u001b[0m     \u001b[0;32mdef\u001b[0m \u001b[0m_make_engine\u001b[0m\u001b[0;34m(\u001b[0m\u001b[0mself\u001b[0m\u001b[0;34m,\u001b[0m \u001b[0mengine\u001b[0m\u001b[0;34m=\u001b[0m\u001b[0;34m'c'\u001b[0m\u001b[0;34m)\u001b[0m\u001b[0;34m:\u001b[0m\u001b[0;34m\u001b[0m\u001b[0;34m\u001b[0m\u001b[0m\n\u001b[1;32m   1121\u001b[0m         \u001b[0;32mif\u001b[0m \u001b[0mengine\u001b[0m \u001b[0;34m==\u001b[0m \u001b[0;34m'c'\u001b[0m\u001b[0;34m:\u001b[0m\u001b[0;34m\u001b[0m\u001b[0;34m\u001b[0m\u001b[0m\n\u001b[0;32m-> 1122\u001b[0;31m             \u001b[0mself\u001b[0m\u001b[0;34m.\u001b[0m\u001b[0m_engine\u001b[0m \u001b[0;34m=\u001b[0m \u001b[0mCParserWrapper\u001b[0m\u001b[0;34m(\u001b[0m\u001b[0mself\u001b[0m\u001b[0;34m.\u001b[0m\u001b[0mf\u001b[0m\u001b[0;34m,\u001b[0m \u001b[0;34m**\u001b[0m\u001b[0mself\u001b[0m\u001b[0;34m.\u001b[0m\u001b[0moptions\u001b[0m\u001b[0;34m)\u001b[0m\u001b[0;34m\u001b[0m\u001b[0;34m\u001b[0m\u001b[0m\n\u001b[0m\u001b[1;32m   1123\u001b[0m         \u001b[0;32melse\u001b[0m\u001b[0;34m:\u001b[0m\u001b[0;34m\u001b[0m\u001b[0;34m\u001b[0m\u001b[0m\n\u001b[1;32m   1124\u001b[0m             \u001b[0;32mif\u001b[0m \u001b[0mengine\u001b[0m \u001b[0;34m==\u001b[0m \u001b[0;34m'python'\u001b[0m\u001b[0;34m:\u001b[0m\u001b[0;34m\u001b[0m\u001b[0;34m\u001b[0m\u001b[0m\n",
            "\u001b[0;32m/usr/local/lib/python3.6/dist-packages/pandas/io/parsers.py\u001b[0m in \u001b[0;36m__init__\u001b[0;34m(self, src, **kwds)\u001b[0m\n\u001b[1;32m   1851\u001b[0m         \u001b[0mkwds\u001b[0m\u001b[0;34m[\u001b[0m\u001b[0;34m'usecols'\u001b[0m\u001b[0;34m]\u001b[0m \u001b[0;34m=\u001b[0m \u001b[0mself\u001b[0m\u001b[0;34m.\u001b[0m\u001b[0musecols\u001b[0m\u001b[0;34m\u001b[0m\u001b[0;34m\u001b[0m\u001b[0m\n\u001b[1;32m   1852\u001b[0m \u001b[0;34m\u001b[0m\u001b[0m\n\u001b[0;32m-> 1853\u001b[0;31m         \u001b[0mself\u001b[0m\u001b[0;34m.\u001b[0m\u001b[0m_reader\u001b[0m \u001b[0;34m=\u001b[0m \u001b[0mparsers\u001b[0m\u001b[0;34m.\u001b[0m\u001b[0mTextReader\u001b[0m\u001b[0;34m(\u001b[0m\u001b[0msrc\u001b[0m\u001b[0;34m,\u001b[0m \u001b[0;34m**\u001b[0m\u001b[0mkwds\u001b[0m\u001b[0;34m)\u001b[0m\u001b[0;34m\u001b[0m\u001b[0;34m\u001b[0m\u001b[0m\n\u001b[0m\u001b[1;32m   1854\u001b[0m         \u001b[0mself\u001b[0m\u001b[0;34m.\u001b[0m\u001b[0munnamed_cols\u001b[0m \u001b[0;34m=\u001b[0m \u001b[0mself\u001b[0m\u001b[0;34m.\u001b[0m\u001b[0m_reader\u001b[0m\u001b[0;34m.\u001b[0m\u001b[0munnamed_cols\u001b[0m\u001b[0;34m\u001b[0m\u001b[0;34m\u001b[0m\u001b[0m\n\u001b[1;32m   1855\u001b[0m \u001b[0;34m\u001b[0m\u001b[0m\n",
            "\u001b[0;32mpandas/_libs/parsers.pyx\u001b[0m in \u001b[0;36mpandas._libs.parsers.TextReader.__cinit__\u001b[0;34m()\u001b[0m\n",
            "\u001b[0;32mpandas/_libs/parsers.pyx\u001b[0m in \u001b[0;36mpandas._libs.parsers.TextReader._setup_parser_source\u001b[0;34m()\u001b[0m\n",
            "\u001b[0;31mFileNotFoundError\u001b[0m: [Errno 2] File b'yellow_tripdata_2018-02.csv' does not exist: b'yellow_tripdata_2018-02.csv'"
          ]
        }
      ]
    },
    {
      "cell_type": "code",
      "metadata": {
        "id": "AdXfKoqueNDD",
        "colab_type": "code",
        "colab": {
          "base_uri": "https://localhost:8080/",
          "height": 34
        },
        "outputId": "a9e832ce-f3f3-47a8-e526-e3f2d0bfcf11"
      },
      "source": [
        "print (totales_trimestrales)"
      ],
      "execution_count": 79,
      "outputs": [
        {
          "output_type": "stream",
          "text": [
            "\u001b[0m\u001b[01;34msample_data\u001b[0m/  yellow_tripdata_2018-01.csv\n"
          ],
          "name": "stdout"
        }
      ]
    },
    {
      "cell_type": "code",
      "metadata": {
        "id": "BHq00c5Pe06r",
        "colab_type": "code",
        "colab": {}
      },
      "source": [
        "totales_trimestrales['n_long'] /totales_trimestrales['n_total']"
      ],
      "execution_count": 0,
      "outputs": []
    },
    {
      "cell_type": "markdown",
      "metadata": {
        "id": "-AH-EuOsfcXA",
        "colab_type": "text"
      },
      "source": [
        "###Repetir los paso y contamos el tiempo con import time \n",
        "cual es la huella de memoria con genradores y con listas\n",
        "y ver la huella de memoria del proceso antes y despues \n",
        "reportaos 3 meses 6 12 y asi"
      ]
    },
    {
      "cell_type": "code",
      "metadata": {
        "id": "M79PDtslfjq6",
        "colab_type": "code",
        "colab": {}
      },
      "source": [
        ""
      ],
      "execution_count": 0,
      "outputs": []
    }
  ]
}