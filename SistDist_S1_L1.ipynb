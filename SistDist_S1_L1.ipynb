{
  "nbformat": 4,
  "nbformat_minor": 0,
  "metadata": {
    "colab": {
      "name": "SistDist_S1_L1.ipynb",
      "version": "0.3.2",
      "provenance": [],
      "collapsed_sections": [],
      "include_colab_link": true
    },
    "kernelspec": {
      "name": "python3",
      "display_name": "Python 3"
    }
  },
  "cells": [
    {
      "cell_type": "markdown",
      "metadata": {
        "id": "view-in-github",
        "colab_type": "text"
      },
      "source": [
        "<a href=\"https://colab.research.google.com/github/CinthiaLuna/PracticasSa/blob/master/SistDist_S1_L1.ipynb\" target=\"_parent\"><img src=\"https://colab.research.google.com/assets/colab-badge.svg\" alt=\"Open In Colab\"/></a>"
      ]
    },
    {
      "cell_type": "markdown",
      "metadata": {
        "id": "Z6_nYP33V-I7",
        "colab_type": "text"
      },
      "source": [
        "#Primeros pasos:\n",
        "Como guardar la información en memoria\n"
      ]
    },
    {
      "cell_type": "code",
      "metadata": {
        "id": "ISLjQztlVbdA",
        "colab_type": "code",
        "colab": {}
      },
      "source": [
        "import psutil, os"
      ],
      "execution_count": 0,
      "outputs": []
    },
    {
      "cell_type": "code",
      "metadata": {
        "id": "RoVwDHMPWUQO",
        "colab_type": "code",
        "colab": {}
      },
      "source": [
        "def huella_de_memoria():\n",
        "  '''Regresa la memoria usada por un proceso en python'''\n",
        "  mem = psutil.Process(os.getpid()).memory_info().rss\n",
        "  return (mem /1024**2)"
      ],
      "execution_count": 0,
      "outputs": []
    },
    {
      "cell_type": "code",
      "metadata": {
        "id": "jOwTtboHWt1s",
        "colab_type": "code",
        "outputId": "65352fe1-7b0a-40f7-a3b8-f99c4a00ffdd",
        "colab": {
          "base_uri": "https://localhost:8080/",
          "height": 34
        }
      },
      "source": [
        "huella_de_memoria()"
      ],
      "execution_count": 0,
      "outputs": [
        {
          "output_type": "execute_result",
          "data": {
            "text/plain": [
              "214.32421875"
            ]
          },
          "metadata": {
            "tags": []
          },
          "execution_count": 18
        }
      ]
    },
    {
      "cell_type": "code",
      "metadata": {
        "id": "ag-zmaZdW7bs",
        "colab_type": "code",
        "colab": {}
      },
      "source": [
        "import numpy as np"
      ],
      "execution_count": 0,
      "outputs": []
    },
    {
      "cell_type": "code",
      "metadata": {
        "id": "YYdoMT-XXGSg",
        "colab_type": "code",
        "colab": {}
      },
      "source": [
        "antes = huella_de_memoria()"
      ],
      "execution_count": 0,
      "outputs": []
    },
    {
      "cell_type": "markdown",
      "metadata": {
        "id": "lMoph0TtXTsr",
        "colab_type": "text"
      },
      "source": [
        "N es el numero de valores de punto flotante que llena 1MB"
      ]
    },
    {
      "cell_type": "code",
      "metadata": {
        "id": "byeqdWKoXJsb",
        "colab_type": "code",
        "colab": {}
      },
      "source": [
        "N = (1024**2) // 8"
      ],
      "execution_count": 0,
      "outputs": []
    },
    {
      "cell_type": "code",
      "metadata": {
        "id": "Nli4u31mXPdr",
        "colab_type": "code",
        "colab": {}
      },
      "source": [
        "x = np.random.rand(50*N)"
      ],
      "execution_count": 0,
      "outputs": []
    },
    {
      "cell_type": "code",
      "metadata": {
        "id": "R_DXXjf-XwNj",
        "colab_type": "code",
        "colab": {}
      },
      "source": [
        "despues = huella_de_memoria()"
      ],
      "execution_count": 0,
      "outputs": []
    },
    {
      "cell_type": "code",
      "metadata": {
        "id": "OjOwJc-GYPNY",
        "colab_type": "code",
        "colab": {}
      },
      "source": [
        "antes = huella_de_memoria()"
      ],
      "execution_count": 0,
      "outputs": []
    },
    {
      "cell_type": "code",
      "metadata": {
        "id": "EP8WG4iaY8jb",
        "colab_type": "code",
        "outputId": "8a8cd21b-86bc-4049-a7a3-205bdc8d7543",
        "colab": {
          "base_uri": "https://localhost:8080/",
          "height": 50
        }
      },
      "source": [
        "x**2"
      ],
      "execution_count": 0,
      "outputs": [
        {
          "output_type": "execute_result",
          "data": {
            "text/plain": [
              "array([7.81907357e-01, 8.61748523e-01, 5.01841108e-03, ...,\n",
              "       5.47062549e-01, 3.89730686e-01, 4.22872555e-06])"
            ]
          },
          "metadata": {
            "tags": []
          },
          "execution_count": 15
        }
      ]
    },
    {
      "cell_type": "code",
      "metadata": {
        "id": "_vcUSqakY-ov",
        "colab_type": "code",
        "outputId": "8d92330c-922f-469d-b563-b8c6793e899f",
        "colab": {
          "base_uri": "https://localhost:8080/",
          "height": 34
        }
      },
      "source": [
        "despues = huella_de_memoria()\n",
        "print(despues - antes)"
      ],
      "execution_count": 0,
      "outputs": [
        {
          "output_type": "stream",
          "text": [
            "50\n"
          ],
          "name": "stdout"
        }
      ]
    },
    {
      "cell_type": "markdown",
      "metadata": {
        "id": "CLlyVPO_Z7Zg",
        "colab_type": "text"
      },
      "source": [
        "// Regresa la parte entera del resultado\n",
        "/Regresa"
      ]
    },
    {
      "cell_type": "code",
      "metadata": {
        "id": "eaQBmcxqZHSD",
        "colab_type": "code",
        "outputId": "ae7a343c-3637-44d6-df22-48b8e947bfc8",
        "colab": {
          "base_uri": "https://localhost:8080/",
          "height": 34
        }
      },
      "source": [
        "x.nbytes//(1024**2)"
      ],
      "execution_count": 0,
      "outputs": [
        {
          "output_type": "execute_result",
          "data": {
            "text/plain": [
              "50"
            ]
          },
          "metadata": {
            "tags": []
          },
          "execution_count": 20
        }
      ]
    },
    {
      "cell_type": "code",
      "metadata": {
        "id": "IaHud30LZypT",
        "colab_type": "code",
        "colab": {}
      },
      "source": [
        "import pandas as pd"
      ],
      "execution_count": 0,
      "outputs": []
    },
    {
      "cell_type": "code",
      "metadata": {
        "id": "ZgTROk1DaMfH",
        "colab_type": "code",
        "colab": {}
      },
      "source": [
        "df = pd.DataFrame(x)\n",
        "df"
      ],
      "execution_count": 0,
      "outputs": []
    },
    {
      "cell_type": "code",
      "metadata": {
        "id": "SCAKlbUBaTei",
        "colab_type": "code",
        "outputId": "078f9af4-413b-4041-8b2b-44adcbaff3fb",
        "colab": {
          "base_uri": "https://localhost:8080/",
          "height": 118
        }
      },
      "source": [
        "df.info()"
      ],
      "execution_count": 0,
      "outputs": [
        {
          "output_type": "stream",
          "text": [
            "<class 'pandas.core.frame.DataFrame'>\n",
            "RangeIndex: 6553600 entries, 0 to 6553599\n",
            "Data columns (total 1 columns):\n",
            "0    float64\n",
            "dtypes: float64(1)\n",
            "memory usage: 50.0 MB\n"
          ],
          "name": "stdout"
        }
      ]
    },
    {
      "cell_type": "code",
      "metadata": {
        "id": "h0id-w6_andP",
        "colab_type": "code",
        "outputId": "d3d5d9ed-393a-4bd4-b1f6-e000969b54dd",
        "colab": {
          "base_uri": "https://localhost:8080/",
          "height": 50
        }
      },
      "source": [
        "df.memory_usage(index = False)/(1024**2)"
      ],
      "execution_count": 0,
      "outputs": [
        {
          "output_type": "execute_result",
          "data": {
            "text/plain": [
              "0    50.0\n",
              "dtype: float64"
            ]
          },
          "metadata": {
            "tags": []
          },
          "execution_count": 29
        }
      ]
    },
    {
      "cell_type": "markdown",
      "metadata": {
        "id": "56w6VQ0gbYud",
        "colab_type": "text"
      },
      "source": [
        "##Ejercicio: Reportar el uso de memoria de la siguiente estructura\n",
        "1.- Memoria del arreglo  `celsius`\n",
        "\n",
        "2.- Memoria total en MB del proceso __antes__ de realizar la operación en 3\n",
        "\n",
        "3.- Convertir celsius a `fahrenheit` usando 9/5 `celsius` +32\n",
        "\n",
        "4.- Indicar\n",
        "\n"
      ]
    },
    {
      "cell_type": "code",
      "metadata": {
        "id": "IbcAH0c_a4I-",
        "colab_type": "code",
        "outputId": "e3f6ac79-9d48-48d9-ae05-b8d8d428eb2e",
        "colab": {
          "base_uri": "https://localhost:8080/",
          "height": 50
        }
      },
      "source": [
        "celsius = np.arange(-4,0.,4/366000)\n",
        "celsius"
      ],
      "execution_count": 0,
      "outputs": [
        {
          "output_type": "execute_result",
          "data": {
            "text/plain": [
              "array([-4.00000000e+00, -3.99998907e+00, -3.99997814e+00, ...,\n",
              "       -3.27869416e-05, -2.18579799e-05, -1.09290181e-05])"
            ]
          },
          "metadata": {
            "tags": []
          },
          "execution_count": 35
        }
      ]
    },
    {
      "cell_type": "code",
      "metadata": {
        "id": "x7XcQX3adT4B",
        "colab_type": "code",
        "colab": {}
      },
      "source": [
        "antes = huella_de_memoria()"
      ],
      "execution_count": 0,
      "outputs": []
    },
    {
      "cell_type": "code",
      "metadata": {
        "id": "0wQojSi5d11a",
        "colab_type": "code",
        "outputId": "ecd78c5e-a2a3-4532-cf73-aa5b6da02261",
        "colab": {
          "base_uri": "https://localhost:8080/",
          "height": 34
        }
      },
      "source": [
        "print(antes)"
      ],
      "execution_count": 0,
      "outputs": [
        {
          "output_type": "stream",
          "text": [
            "221.890625\n"
          ],
          "name": "stdout"
        }
      ]
    },
    {
      "cell_type": "code",
      "metadata": {
        "id": "TfbsqOM-ePpR",
        "colab_type": "code",
        "outputId": "949b52eb-03f1-434f-998c-124d15b5eaf6",
        "colab": {
          "base_uri": "https://localhost:8080/",
          "height": 34
        }
      },
      "source": [
        "celsius.nbytes/(1024**2)"
      ],
      "execution_count": 0,
      "outputs": [
        {
          "output_type": "execute_result",
          "data": {
            "text/plain": [
              "2.7923583984375"
            ]
          },
          "metadata": {
            "tags": []
          },
          "execution_count": 44
        }
      ]
    },
    {
      "cell_type": "code",
      "metadata": {
        "id": "xEjdjgB1emcs",
        "colab_type": "code",
        "outputId": "02934714-8595-4a9a-e3d8-5ed78981d0a0",
        "colab": {
          "base_uri": "https://localhost:8080/",
          "height": 34
        }
      },
      "source": [
        "antes = huella_de_memoria()\n",
        "fahrenheit = 32 + celsius * 9/5\n",
        "despues = huella_de_memoria()\n",
        "print(despues - antes)"
      ],
      "execution_count": 0,
      "outputs": [
        {
          "output_type": "stream",
          "text": [
            "2.8671875\n"
          ],
          "name": "stdout"
        }
      ]
    },
    {
      "cell_type": "code",
      "metadata": {
        "id": "WdO9EjOQfVng",
        "colab_type": "code",
        "outputId": "aac14d49-9ecf-43a9-c9b8-89a54cc65771",
        "colab": {
          "base_uri": "https://localhost:8080/",
          "height": 34
        }
      },
      "source": [
        "fahrenheit.nbytes/(1024**2)"
      ],
      "execution_count": 0,
      "outputs": [
        {
          "output_type": "execute_result",
          "data": {
            "text/plain": [
              "2.7923583984375"
            ]
          },
          "metadata": {
            "tags": []
          },
          "execution_count": 47
        }
      ]
    },
    {
      "cell_type": "markdown",
      "metadata": {
        "id": "xh_1QsrOfzlX",
        "colab_type": "text"
      },
      "source": [
        "###TAREA: Repetir todos los pasos en el entorno local "
      ]
    },
    {
      "cell_type": "code",
      "metadata": {
        "id": "JOkmM0y8flAo",
        "colab_type": "code",
        "colab": {}
      },
      "source": [
        ""
      ],
      "execution_count": 0,
      "outputs": []
    }
  ]
}